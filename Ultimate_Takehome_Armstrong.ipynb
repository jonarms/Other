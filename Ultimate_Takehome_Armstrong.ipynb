{
 "cells": [
  {
   "cell_type": "code",
   "execution_count": 1,
   "id": "41455836",
   "metadata": {},
   "outputs": [],
   "source": [
    "import json\n",
    "import pandas as pd\n",
    "from datetime import datetime\n",
    "from datetime import timedelta\n",
    "import numpy as np\n",
    "import time\n",
    "import matplotlib.pyplot as plt\n",
    "import seaborn as sns\n",
    "import matplotlib.ticker as plticker\n",
    "import random as ran"
   ]
  },
  {
   "cell_type": "markdown",
   "id": "4ac07e65",
   "metadata": {},
   "source": [
    "## Part 1"
   ]
  },
  {
   "cell_type": "markdown",
   "id": "373817ea",
   "metadata": {},
   "source": [
    "Loading Data"
   ]
  },
  {
   "cell_type": "code",
   "execution_count": 2,
   "id": "5754c256",
   "metadata": {},
   "outputs": [],
   "source": [
    "with open(\"logins.json\") as json_file:\n",
    "    json_data = json.load(json_file)"
   ]
  },
  {
   "cell_type": "code",
   "execution_count": 3,
   "id": "a1e3a9db",
   "metadata": {},
   "outputs": [],
   "source": [
    "df = pd.read_json('logins.json')\n",
    "df['Date'] = pd.to_datetime(df['login_time']).dt.date\n",
    "df['Hour'] = pd.to_datetime(df['login_time']).dt.hour\n",
    "df['Minute'] = pd.to_datetime(df['login_time']).dt.minute\n",
    "df.sort_values(by=['login_time'], inplace=True)"
   ]
  },
  {
   "cell_type": "markdown",
   "id": "f6451f9c",
   "metadata": {},
   "source": [
    "Generating groups based on 15 minute intervals"
   ]
  },
  {
   "cell_type": "code",
   "execution_count": 4,
   "id": "4f0c71c9",
   "metadata": {},
   "outputs": [
    {
     "data": {
      "text/html": [
       "<div>\n",
       "<style scoped>\n",
       "    .dataframe tbody tr th:only-of-type {\n",
       "        vertical-align: middle;\n",
       "    }\n",
       "\n",
       "    .dataframe tbody tr th {\n",
       "        vertical-align: top;\n",
       "    }\n",
       "\n",
       "    .dataframe thead th {\n",
       "        text-align: right;\n",
       "    }\n",
       "</style>\n",
       "<table border=\"1\" class=\"dataframe\">\n",
       "  <thead>\n",
       "    <tr style=\"text-align: right;\">\n",
       "      <th></th>\n",
       "      <th>login_time</th>\n",
       "      <th>Date</th>\n",
       "      <th>Hour</th>\n",
       "      <th>Minute</th>\n",
       "      <th>minshift</th>\n",
       "      <th>interval</th>\n",
       "    </tr>\n",
       "  </thead>\n",
       "  <tbody>\n",
       "    <tr>\n",
       "      <th>6</th>\n",
       "      <td>1970-01-01 20:12:16</td>\n",
       "      <td>1970-01-01</td>\n",
       "      <td>20</td>\n",
       "      <td>12</td>\n",
       "      <td>NaN</td>\n",
       "      <td>NaN</td>\n",
       "    </tr>\n",
       "    <tr>\n",
       "      <th>0</th>\n",
       "      <td>1970-01-01 20:13:18</td>\n",
       "      <td>1970-01-01</td>\n",
       "      <td>20</td>\n",
       "      <td>13</td>\n",
       "      <td>12.0</td>\n",
       "      <td>1.0</td>\n",
       "    </tr>\n",
       "    <tr>\n",
       "      <th>1</th>\n",
       "      <td>1970-01-01 20:16:10</td>\n",
       "      <td>1970-01-01</td>\n",
       "      <td>20</td>\n",
       "      <td>16</td>\n",
       "      <td>13.0</td>\n",
       "      <td>3.0</td>\n",
       "    </tr>\n",
       "    <tr>\n",
       "      <th>3</th>\n",
       "      <td>1970-01-01 20:16:36</td>\n",
       "      <td>1970-01-01</td>\n",
       "      <td>20</td>\n",
       "      <td>16</td>\n",
       "      <td>16.0</td>\n",
       "      <td>0.0</td>\n",
       "    </tr>\n",
       "    <tr>\n",
       "      <th>2</th>\n",
       "      <td>1970-01-01 20:16:37</td>\n",
       "      <td>1970-01-01</td>\n",
       "      <td>20</td>\n",
       "      <td>16</td>\n",
       "      <td>16.0</td>\n",
       "      <td>0.0</td>\n",
       "    </tr>\n",
       "    <tr>\n",
       "      <th>5</th>\n",
       "      <td>1970-01-01 20:21:41</td>\n",
       "      <td>1970-01-01</td>\n",
       "      <td>20</td>\n",
       "      <td>21</td>\n",
       "      <td>16.0</td>\n",
       "      <td>5.0</td>\n",
       "    </tr>\n",
       "    <tr>\n",
       "      <th>10</th>\n",
       "      <td>1970-01-01 20:26:05</td>\n",
       "      <td>1970-01-01</td>\n",
       "      <td>20</td>\n",
       "      <td>26</td>\n",
       "      <td>21.0</td>\n",
       "      <td>5.0</td>\n",
       "    </tr>\n",
       "    <tr>\n",
       "      <th>4</th>\n",
       "      <td>1970-01-01 20:26:21</td>\n",
       "      <td>1970-01-01</td>\n",
       "      <td>20</td>\n",
       "      <td>26</td>\n",
       "      <td>26.0</td>\n",
       "      <td>0.0</td>\n",
       "    </tr>\n",
       "    <tr>\n",
       "      <th>11</th>\n",
       "      <td>1970-01-01 20:31:03</td>\n",
       "      <td>1970-01-01</td>\n",
       "      <td>20</td>\n",
       "      <td>31</td>\n",
       "      <td>26.0</td>\n",
       "      <td>5.0</td>\n",
       "    </tr>\n",
       "    <tr>\n",
       "      <th>12</th>\n",
       "      <td>1970-01-01 20:34:46</td>\n",
       "      <td>1970-01-01</td>\n",
       "      <td>20</td>\n",
       "      <td>34</td>\n",
       "      <td>31.0</td>\n",
       "      <td>3.0</td>\n",
       "    </tr>\n",
       "  </tbody>\n",
       "</table>\n",
       "</div>"
      ],
      "text/plain": [
       "            login_time        Date  Hour  Minute  minshift interval\n",
       "6  1970-01-01 20:12:16  1970-01-01    20      12       NaN      NaN\n",
       "0  1970-01-01 20:13:18  1970-01-01    20      13      12.0      1.0\n",
       "1  1970-01-01 20:16:10  1970-01-01    20      16      13.0      3.0\n",
       "3  1970-01-01 20:16:36  1970-01-01    20      16      16.0      0.0\n",
       "2  1970-01-01 20:16:37  1970-01-01    20      16      16.0      0.0\n",
       "5  1970-01-01 20:21:41  1970-01-01    20      21      16.0      5.0\n",
       "10 1970-01-01 20:26:05  1970-01-01    20      26      21.0      5.0\n",
       "4  1970-01-01 20:26:21  1970-01-01    20      26      26.0      0.0\n",
       "11 1970-01-01 20:31:03  1970-01-01    20      31      26.0      5.0\n",
       "12 1970-01-01 20:34:46  1970-01-01    20      34      31.0      3.0"
      ]
     },
     "execution_count": 4,
     "metadata": {},
     "output_type": "execute_result"
    }
   ],
   "source": [
    "#Starting by generating intervals between login times\n",
    "df['minshift'] = df['Minute'].shift(1)\n",
    "df['interval'] = ''\n",
    "hfilter = df['Hour'] == df['Hour'].shift(1)\n",
    "df.loc[hfilter, 'interval'] = df['Minute'] - df['minshift']\n",
    "hfilter2 = df['Hour'] != df['Hour'].shift(1)\n",
    "df.loc[hfilter2, 'interval'] = (df['Minute']+60) - df['minshift']\n",
    "df.head(10)"
   ]
  },
  {
   "cell_type": "code",
   "execution_count": 5,
   "id": "1c014c7c",
   "metadata": {},
   "outputs": [],
   "source": [
    "#Counting the minutes between each login time. If the sum goes over 15 then so begins the next group. \n",
    "#The label column is a flag to begin the next group which is named sequentially. \n",
    "ints = list(df['interval'])\n",
    "runcum = [0]\n",
    "labels = []\n",
    "audit = []\n",
    "for i in range(1, len(ints)):\n",
    "    if sum(runcum) < 15:\n",
    "        runcum.append(ints[i])\n",
    "        label = 0\n",
    "        labels.append(label)\n",
    "        audit.append(sum(runcum))\n",
    "    else:\n",
    "        runcum = [ints[i]]\n",
    "        label = 1\n",
    "        labels.append(label)\n",
    "        audit.append(sum(runcum))"
   ]
  },
  {
   "cell_type": "code",
   "execution_count": 6,
   "id": "b25205a2",
   "metadata": {},
   "outputs": [],
   "source": [
    "labels.insert(0, 0)\n",
    "audit.insert(0,0)\n",
    "df['audit'] = audit\n",
    "df['label'] = labels"
   ]
  },
  {
   "cell_type": "code",
   "execution_count": 7,
   "id": "2503ec17",
   "metadata": {},
   "outputs": [],
   "source": [
    "df['group'] = df['label'].cumsum()"
   ]
  },
  {
   "cell_type": "code",
   "execution_count": 8,
   "id": "c5ae73df",
   "metadata": {},
   "outputs": [
    {
     "data": {
      "text/html": [
       "<div>\n",
       "<style scoped>\n",
       "    .dataframe tbody tr th:only-of-type {\n",
       "        vertical-align: middle;\n",
       "    }\n",
       "\n",
       "    .dataframe tbody tr th {\n",
       "        vertical-align: top;\n",
       "    }\n",
       "\n",
       "    .dataframe thead th {\n",
       "        text-align: right;\n",
       "    }\n",
       "</style>\n",
       "<table border=\"1\" class=\"dataframe\">\n",
       "  <thead>\n",
       "    <tr style=\"text-align: right;\">\n",
       "      <th></th>\n",
       "      <th>login_time</th>\n",
       "      <th>Date</th>\n",
       "      <th>Hour</th>\n",
       "      <th>Minute</th>\n",
       "      <th>minshift</th>\n",
       "      <th>interval</th>\n",
       "      <th>audit</th>\n",
       "      <th>label</th>\n",
       "      <th>group</th>\n",
       "    </tr>\n",
       "  </thead>\n",
       "  <tbody>\n",
       "    <tr>\n",
       "      <th>6</th>\n",
       "      <td>1970-01-01 20:12:16</td>\n",
       "      <td>1970-01-01</td>\n",
       "      <td>20</td>\n",
       "      <td>12</td>\n",
       "      <td>NaN</td>\n",
       "      <td>NaN</td>\n",
       "      <td>0.0</td>\n",
       "      <td>0</td>\n",
       "      <td>0</td>\n",
       "    </tr>\n",
       "    <tr>\n",
       "      <th>0</th>\n",
       "      <td>1970-01-01 20:13:18</td>\n",
       "      <td>1970-01-01</td>\n",
       "      <td>20</td>\n",
       "      <td>13</td>\n",
       "      <td>12.0</td>\n",
       "      <td>1.0</td>\n",
       "      <td>1.0</td>\n",
       "      <td>0</td>\n",
       "      <td>0</td>\n",
       "    </tr>\n",
       "    <tr>\n",
       "      <th>1</th>\n",
       "      <td>1970-01-01 20:16:10</td>\n",
       "      <td>1970-01-01</td>\n",
       "      <td>20</td>\n",
       "      <td>16</td>\n",
       "      <td>13.0</td>\n",
       "      <td>3.0</td>\n",
       "      <td>4.0</td>\n",
       "      <td>0</td>\n",
       "      <td>0</td>\n",
       "    </tr>\n",
       "    <tr>\n",
       "      <th>3</th>\n",
       "      <td>1970-01-01 20:16:36</td>\n",
       "      <td>1970-01-01</td>\n",
       "      <td>20</td>\n",
       "      <td>16</td>\n",
       "      <td>16.0</td>\n",
       "      <td>0.0</td>\n",
       "      <td>4.0</td>\n",
       "      <td>0</td>\n",
       "      <td>0</td>\n",
       "    </tr>\n",
       "    <tr>\n",
       "      <th>2</th>\n",
       "      <td>1970-01-01 20:16:37</td>\n",
       "      <td>1970-01-01</td>\n",
       "      <td>20</td>\n",
       "      <td>16</td>\n",
       "      <td>16.0</td>\n",
       "      <td>0.0</td>\n",
       "      <td>4.0</td>\n",
       "      <td>0</td>\n",
       "      <td>0</td>\n",
       "    </tr>\n",
       "    <tr>\n",
       "      <th>5</th>\n",
       "      <td>1970-01-01 20:21:41</td>\n",
       "      <td>1970-01-01</td>\n",
       "      <td>20</td>\n",
       "      <td>21</td>\n",
       "      <td>16.0</td>\n",
       "      <td>5.0</td>\n",
       "      <td>9.0</td>\n",
       "      <td>0</td>\n",
       "      <td>0</td>\n",
       "    </tr>\n",
       "    <tr>\n",
       "      <th>10</th>\n",
       "      <td>1970-01-01 20:26:05</td>\n",
       "      <td>1970-01-01</td>\n",
       "      <td>20</td>\n",
       "      <td>26</td>\n",
       "      <td>21.0</td>\n",
       "      <td>5.0</td>\n",
       "      <td>14.0</td>\n",
       "      <td>0</td>\n",
       "      <td>0</td>\n",
       "    </tr>\n",
       "    <tr>\n",
       "      <th>4</th>\n",
       "      <td>1970-01-01 20:26:21</td>\n",
       "      <td>1970-01-01</td>\n",
       "      <td>20</td>\n",
       "      <td>26</td>\n",
       "      <td>26.0</td>\n",
       "      <td>0.0</td>\n",
       "      <td>14.0</td>\n",
       "      <td>0</td>\n",
       "      <td>0</td>\n",
       "    </tr>\n",
       "    <tr>\n",
       "      <th>11</th>\n",
       "      <td>1970-01-01 20:31:03</td>\n",
       "      <td>1970-01-01</td>\n",
       "      <td>20</td>\n",
       "      <td>31</td>\n",
       "      <td>26.0</td>\n",
       "      <td>5.0</td>\n",
       "      <td>19.0</td>\n",
       "      <td>0</td>\n",
       "      <td>0</td>\n",
       "    </tr>\n",
       "    <tr>\n",
       "      <th>12</th>\n",
       "      <td>1970-01-01 20:34:46</td>\n",
       "      <td>1970-01-01</td>\n",
       "      <td>20</td>\n",
       "      <td>34</td>\n",
       "      <td>31.0</td>\n",
       "      <td>3.0</td>\n",
       "      <td>3.0</td>\n",
       "      <td>1</td>\n",
       "      <td>1</td>\n",
       "    </tr>\n",
       "    <tr>\n",
       "      <th>16</th>\n",
       "      <td>1970-01-01 20:34:58</td>\n",
       "      <td>1970-01-01</td>\n",
       "      <td>20</td>\n",
       "      <td>34</td>\n",
       "      <td>34.0</td>\n",
       "      <td>0.0</td>\n",
       "      <td>3.0</td>\n",
       "      <td>0</td>\n",
       "      <td>1</td>\n",
       "    </tr>\n",
       "    <tr>\n",
       "      <th>8</th>\n",
       "      <td>1970-01-01 20:35:38</td>\n",
       "      <td>1970-01-01</td>\n",
       "      <td>20</td>\n",
       "      <td>35</td>\n",
       "      <td>34.0</td>\n",
       "      <td>1.0</td>\n",
       "      <td>4.0</td>\n",
       "      <td>0</td>\n",
       "      <td>1</td>\n",
       "    </tr>\n",
       "    <tr>\n",
       "      <th>7</th>\n",
       "      <td>1970-01-01 20:35:47</td>\n",
       "      <td>1970-01-01</td>\n",
       "      <td>20</td>\n",
       "      <td>35</td>\n",
       "      <td>35.0</td>\n",
       "      <td>0.0</td>\n",
       "      <td>4.0</td>\n",
       "      <td>0</td>\n",
       "      <td>1</td>\n",
       "    </tr>\n",
       "    <tr>\n",
       "      <th>13</th>\n",
       "      <td>1970-01-01 20:36:34</td>\n",
       "      <td>1970-01-01</td>\n",
       "      <td>20</td>\n",
       "      <td>36</td>\n",
       "      <td>35.0</td>\n",
       "      <td>1.0</td>\n",
       "      <td>5.0</td>\n",
       "      <td>0</td>\n",
       "      <td>1</td>\n",
       "    </tr>\n",
       "    <tr>\n",
       "      <th>14</th>\n",
       "      <td>1970-01-01 20:39:25</td>\n",
       "      <td>1970-01-01</td>\n",
       "      <td>20</td>\n",
       "      <td>39</td>\n",
       "      <td>36.0</td>\n",
       "      <td>3.0</td>\n",
       "      <td>8.0</td>\n",
       "      <td>0</td>\n",
       "      <td>1</td>\n",
       "    </tr>\n",
       "    <tr>\n",
       "      <th>15</th>\n",
       "      <td>1970-01-01 20:40:37</td>\n",
       "      <td>1970-01-01</td>\n",
       "      <td>20</td>\n",
       "      <td>40</td>\n",
       "      <td>39.0</td>\n",
       "      <td>1.0</td>\n",
       "      <td>9.0</td>\n",
       "      <td>0</td>\n",
       "      <td>1</td>\n",
       "    </tr>\n",
       "    <tr>\n",
       "      <th>17</th>\n",
       "      <td>1970-01-01 20:43:59</td>\n",
       "      <td>1970-01-01</td>\n",
       "      <td>20</td>\n",
       "      <td>43</td>\n",
       "      <td>40.0</td>\n",
       "      <td>3.0</td>\n",
       "      <td>12.0</td>\n",
       "      <td>0</td>\n",
       "      <td>1</td>\n",
       "    </tr>\n",
       "    <tr>\n",
       "      <th>19</th>\n",
       "      <td>1970-01-01 20:46:34</td>\n",
       "      <td>1970-01-01</td>\n",
       "      <td>20</td>\n",
       "      <td>46</td>\n",
       "      <td>43.0</td>\n",
       "      <td>3.0</td>\n",
       "      <td>15.0</td>\n",
       "      <td>0</td>\n",
       "      <td>1</td>\n",
       "    </tr>\n",
       "    <tr>\n",
       "      <th>18</th>\n",
       "      <td>1970-01-01 20:47:46</td>\n",
       "      <td>1970-01-01</td>\n",
       "      <td>20</td>\n",
       "      <td>47</td>\n",
       "      <td>46.0</td>\n",
       "      <td>1.0</td>\n",
       "      <td>1.0</td>\n",
       "      <td>1</td>\n",
       "      <td>2</td>\n",
       "    </tr>\n",
       "    <tr>\n",
       "      <th>9</th>\n",
       "      <td>1970-01-01 20:47:52</td>\n",
       "      <td>1970-01-01</td>\n",
       "      <td>20</td>\n",
       "      <td>47</td>\n",
       "      <td>47.0</td>\n",
       "      <td>0.0</td>\n",
       "      <td>1.0</td>\n",
       "      <td>0</td>\n",
       "      <td>2</td>\n",
       "    </tr>\n",
       "    <tr>\n",
       "      <th>21</th>\n",
       "      <td>1970-01-01 20:49:12</td>\n",
       "      <td>1970-01-01</td>\n",
       "      <td>20</td>\n",
       "      <td>49</td>\n",
       "      <td>47.0</td>\n",
       "      <td>2.0</td>\n",
       "      <td>3.0</td>\n",
       "      <td>0</td>\n",
       "      <td>2</td>\n",
       "    </tr>\n",
       "    <tr>\n",
       "      <th>20</th>\n",
       "      <td>1970-01-01 20:56:07</td>\n",
       "      <td>1970-01-01</td>\n",
       "      <td>20</td>\n",
       "      <td>56</td>\n",
       "      <td>49.0</td>\n",
       "      <td>7.0</td>\n",
       "      <td>10.0</td>\n",
       "      <td>0</td>\n",
       "      <td>2</td>\n",
       "    </tr>\n",
       "    <tr>\n",
       "      <th>22</th>\n",
       "      <td>1970-01-01 20:59:06</td>\n",
       "      <td>1970-01-01</td>\n",
       "      <td>20</td>\n",
       "      <td>59</td>\n",
       "      <td>56.0</td>\n",
       "      <td>3.0</td>\n",
       "      <td>13.0</td>\n",
       "      <td>0</td>\n",
       "      <td>2</td>\n",
       "    </tr>\n",
       "    <tr>\n",
       "      <th>23</th>\n",
       "      <td>1970-01-01 20:59:59</td>\n",
       "      <td>1970-01-01</td>\n",
       "      <td>20</td>\n",
       "      <td>59</td>\n",
       "      <td>59.0</td>\n",
       "      <td>0.0</td>\n",
       "      <td>13.0</td>\n",
       "      <td>0</td>\n",
       "      <td>2</td>\n",
       "    </tr>\n",
       "    <tr>\n",
       "      <th>25</th>\n",
       "      <td>1970-01-01 21:09:24</td>\n",
       "      <td>1970-01-01</td>\n",
       "      <td>21</td>\n",
       "      <td>9</td>\n",
       "      <td>59.0</td>\n",
       "      <td>10.0</td>\n",
       "      <td>23.0</td>\n",
       "      <td>0</td>\n",
       "      <td>2</td>\n",
       "    </tr>\n",
       "    <tr>\n",
       "      <th>24</th>\n",
       "      <td>1970-01-01 21:15:01</td>\n",
       "      <td>1970-01-01</td>\n",
       "      <td>21</td>\n",
       "      <td>15</td>\n",
       "      <td>9.0</td>\n",
       "      <td>6.0</td>\n",
       "      <td>6.0</td>\n",
       "      <td>1</td>\n",
       "      <td>3</td>\n",
       "    </tr>\n",
       "    <tr>\n",
       "      <th>26</th>\n",
       "      <td>1970-01-01 21:19:24</td>\n",
       "      <td>1970-01-01</td>\n",
       "      <td>21</td>\n",
       "      <td>19</td>\n",
       "      <td>15.0</td>\n",
       "      <td>4.0</td>\n",
       "      <td>10.0</td>\n",
       "      <td>0</td>\n",
       "      <td>3</td>\n",
       "    </tr>\n",
       "    <tr>\n",
       "      <th>27</th>\n",
       "      <td>1970-01-01 21:20:53</td>\n",
       "      <td>1970-01-01</td>\n",
       "      <td>21</td>\n",
       "      <td>20</td>\n",
       "      <td>19.0</td>\n",
       "      <td>1.0</td>\n",
       "      <td>11.0</td>\n",
       "      <td>0</td>\n",
       "      <td>3</td>\n",
       "    </tr>\n",
       "    <tr>\n",
       "      <th>28</th>\n",
       "      <td>1970-01-01 21:29:19</td>\n",
       "      <td>1970-01-01</td>\n",
       "      <td>21</td>\n",
       "      <td>29</td>\n",
       "      <td>20.0</td>\n",
       "      <td>9.0</td>\n",
       "      <td>20.0</td>\n",
       "      <td>0</td>\n",
       "      <td>3</td>\n",
       "    </tr>\n",
       "    <tr>\n",
       "      <th>30</th>\n",
       "      <td>1970-01-01 21:51:51</td>\n",
       "      <td>1970-01-01</td>\n",
       "      <td>21</td>\n",
       "      <td>51</td>\n",
       "      <td>29.0</td>\n",
       "      <td>22.0</td>\n",
       "      <td>22.0</td>\n",
       "      <td>1</td>\n",
       "      <td>4</td>\n",
       "    </tr>\n",
       "  </tbody>\n",
       "</table>\n",
       "</div>"
      ],
      "text/plain": [
       "            login_time        Date  Hour  Minute  minshift interval  audit  \\\n",
       "6  1970-01-01 20:12:16  1970-01-01    20      12       NaN      NaN    0.0   \n",
       "0  1970-01-01 20:13:18  1970-01-01    20      13      12.0      1.0    1.0   \n",
       "1  1970-01-01 20:16:10  1970-01-01    20      16      13.0      3.0    4.0   \n",
       "3  1970-01-01 20:16:36  1970-01-01    20      16      16.0      0.0    4.0   \n",
       "2  1970-01-01 20:16:37  1970-01-01    20      16      16.0      0.0    4.0   \n",
       "5  1970-01-01 20:21:41  1970-01-01    20      21      16.0      5.0    9.0   \n",
       "10 1970-01-01 20:26:05  1970-01-01    20      26      21.0      5.0   14.0   \n",
       "4  1970-01-01 20:26:21  1970-01-01    20      26      26.0      0.0   14.0   \n",
       "11 1970-01-01 20:31:03  1970-01-01    20      31      26.0      5.0   19.0   \n",
       "12 1970-01-01 20:34:46  1970-01-01    20      34      31.0      3.0    3.0   \n",
       "16 1970-01-01 20:34:58  1970-01-01    20      34      34.0      0.0    3.0   \n",
       "8  1970-01-01 20:35:38  1970-01-01    20      35      34.0      1.0    4.0   \n",
       "7  1970-01-01 20:35:47  1970-01-01    20      35      35.0      0.0    4.0   \n",
       "13 1970-01-01 20:36:34  1970-01-01    20      36      35.0      1.0    5.0   \n",
       "14 1970-01-01 20:39:25  1970-01-01    20      39      36.0      3.0    8.0   \n",
       "15 1970-01-01 20:40:37  1970-01-01    20      40      39.0      1.0    9.0   \n",
       "17 1970-01-01 20:43:59  1970-01-01    20      43      40.0      3.0   12.0   \n",
       "19 1970-01-01 20:46:34  1970-01-01    20      46      43.0      3.0   15.0   \n",
       "18 1970-01-01 20:47:46  1970-01-01    20      47      46.0      1.0    1.0   \n",
       "9  1970-01-01 20:47:52  1970-01-01    20      47      47.0      0.0    1.0   \n",
       "21 1970-01-01 20:49:12  1970-01-01    20      49      47.0      2.0    3.0   \n",
       "20 1970-01-01 20:56:07  1970-01-01    20      56      49.0      7.0   10.0   \n",
       "22 1970-01-01 20:59:06  1970-01-01    20      59      56.0      3.0   13.0   \n",
       "23 1970-01-01 20:59:59  1970-01-01    20      59      59.0      0.0   13.0   \n",
       "25 1970-01-01 21:09:24  1970-01-01    21       9      59.0     10.0   23.0   \n",
       "24 1970-01-01 21:15:01  1970-01-01    21      15       9.0      6.0    6.0   \n",
       "26 1970-01-01 21:19:24  1970-01-01    21      19      15.0      4.0   10.0   \n",
       "27 1970-01-01 21:20:53  1970-01-01    21      20      19.0      1.0   11.0   \n",
       "28 1970-01-01 21:29:19  1970-01-01    21      29      20.0      9.0   20.0   \n",
       "30 1970-01-01 21:51:51  1970-01-01    21      51      29.0     22.0   22.0   \n",
       "\n",
       "    label  group  \n",
       "6       0      0  \n",
       "0       0      0  \n",
       "1       0      0  \n",
       "3       0      0  \n",
       "2       0      0  \n",
       "5       0      0  \n",
       "10      0      0  \n",
       "4       0      0  \n",
       "11      0      0  \n",
       "12      1      1  \n",
       "16      0      1  \n",
       "8       0      1  \n",
       "7       0      1  \n",
       "13      0      1  \n",
       "14      0      1  \n",
       "15      0      1  \n",
       "17      0      1  \n",
       "19      0      1  \n",
       "18      1      2  \n",
       "9       0      2  \n",
       "21      0      2  \n",
       "20      0      2  \n",
       "22      0      2  \n",
       "23      0      2  \n",
       "25      0      2  \n",
       "24      1      3  \n",
       "26      0      3  \n",
       "27      0      3  \n",
       "28      0      3  \n",
       "30      1      4  "
      ]
     },
     "execution_count": 8,
     "metadata": {},
     "output_type": "execute_result"
    }
   ],
   "source": [
    "df.head(30)"
   ]
  },
  {
   "cell_type": "code",
   "execution_count": 9,
   "id": "a7bb7f38",
   "metadata": {},
   "outputs": [],
   "source": [
    "df.drop(columns=['label', 'minshift', 'audit'], inplace=True)\n",
    "df.reset_index(drop=True, inplace=True)"
   ]
  },
  {
   "cell_type": "code",
   "execution_count": 10,
   "id": "f47b9b2a",
   "metadata": {},
   "outputs": [
    {
     "data": {
      "text/html": [
       "<div>\n",
       "<style scoped>\n",
       "    .dataframe tbody tr th:only-of-type {\n",
       "        vertical-align: middle;\n",
       "    }\n",
       "\n",
       "    .dataframe tbody tr th {\n",
       "        vertical-align: top;\n",
       "    }\n",
       "\n",
       "    .dataframe thead th {\n",
       "        text-align: right;\n",
       "    }\n",
       "</style>\n",
       "<table border=\"1\" class=\"dataframe\">\n",
       "  <thead>\n",
       "    <tr style=\"text-align: right;\">\n",
       "      <th></th>\n",
       "      <th>login_time</th>\n",
       "      <th>Date</th>\n",
       "      <th>Hour</th>\n",
       "      <th>Minute</th>\n",
       "      <th>interval</th>\n",
       "      <th>group</th>\n",
       "    </tr>\n",
       "  </thead>\n",
       "  <tbody>\n",
       "    <tr>\n",
       "      <th>0</th>\n",
       "      <td>1970-01-01 20:12:16</td>\n",
       "      <td>1970-01-01</td>\n",
       "      <td>20</td>\n",
       "      <td>12</td>\n",
       "      <td>NaN</td>\n",
       "      <td>0</td>\n",
       "    </tr>\n",
       "    <tr>\n",
       "      <th>1</th>\n",
       "      <td>1970-01-01 20:13:18</td>\n",
       "      <td>1970-01-01</td>\n",
       "      <td>20</td>\n",
       "      <td>13</td>\n",
       "      <td>1.0</td>\n",
       "      <td>0</td>\n",
       "    </tr>\n",
       "    <tr>\n",
       "      <th>2</th>\n",
       "      <td>1970-01-01 20:16:10</td>\n",
       "      <td>1970-01-01</td>\n",
       "      <td>20</td>\n",
       "      <td>16</td>\n",
       "      <td>3.0</td>\n",
       "      <td>0</td>\n",
       "    </tr>\n",
       "    <tr>\n",
       "      <th>3</th>\n",
       "      <td>1970-01-01 20:16:36</td>\n",
       "      <td>1970-01-01</td>\n",
       "      <td>20</td>\n",
       "      <td>16</td>\n",
       "      <td>0.0</td>\n",
       "      <td>0</td>\n",
       "    </tr>\n",
       "    <tr>\n",
       "      <th>4</th>\n",
       "      <td>1970-01-01 20:16:37</td>\n",
       "      <td>1970-01-01</td>\n",
       "      <td>20</td>\n",
       "      <td>16</td>\n",
       "      <td>0.0</td>\n",
       "      <td>0</td>\n",
       "    </tr>\n",
       "    <tr>\n",
       "      <th>5</th>\n",
       "      <td>1970-01-01 20:21:41</td>\n",
       "      <td>1970-01-01</td>\n",
       "      <td>20</td>\n",
       "      <td>21</td>\n",
       "      <td>5.0</td>\n",
       "      <td>0</td>\n",
       "    </tr>\n",
       "    <tr>\n",
       "      <th>6</th>\n",
       "      <td>1970-01-01 20:26:05</td>\n",
       "      <td>1970-01-01</td>\n",
       "      <td>20</td>\n",
       "      <td>26</td>\n",
       "      <td>5.0</td>\n",
       "      <td>0</td>\n",
       "    </tr>\n",
       "    <tr>\n",
       "      <th>7</th>\n",
       "      <td>1970-01-01 20:26:21</td>\n",
       "      <td>1970-01-01</td>\n",
       "      <td>20</td>\n",
       "      <td>26</td>\n",
       "      <td>0.0</td>\n",
       "      <td>0</td>\n",
       "    </tr>\n",
       "    <tr>\n",
       "      <th>8</th>\n",
       "      <td>1970-01-01 20:31:03</td>\n",
       "      <td>1970-01-01</td>\n",
       "      <td>20</td>\n",
       "      <td>31</td>\n",
       "      <td>5.0</td>\n",
       "      <td>0</td>\n",
       "    </tr>\n",
       "    <tr>\n",
       "      <th>9</th>\n",
       "      <td>1970-01-01 20:34:46</td>\n",
       "      <td>1970-01-01</td>\n",
       "      <td>20</td>\n",
       "      <td>34</td>\n",
       "      <td>3.0</td>\n",
       "      <td>1</td>\n",
       "    </tr>\n",
       "    <tr>\n",
       "      <th>10</th>\n",
       "      <td>1970-01-01 20:34:58</td>\n",
       "      <td>1970-01-01</td>\n",
       "      <td>20</td>\n",
       "      <td>34</td>\n",
       "      <td>0.0</td>\n",
       "      <td>1</td>\n",
       "    </tr>\n",
       "    <tr>\n",
       "      <th>11</th>\n",
       "      <td>1970-01-01 20:35:38</td>\n",
       "      <td>1970-01-01</td>\n",
       "      <td>20</td>\n",
       "      <td>35</td>\n",
       "      <td>1.0</td>\n",
       "      <td>1</td>\n",
       "    </tr>\n",
       "    <tr>\n",
       "      <th>12</th>\n",
       "      <td>1970-01-01 20:35:47</td>\n",
       "      <td>1970-01-01</td>\n",
       "      <td>20</td>\n",
       "      <td>35</td>\n",
       "      <td>0.0</td>\n",
       "      <td>1</td>\n",
       "    </tr>\n",
       "    <tr>\n",
       "      <th>13</th>\n",
       "      <td>1970-01-01 20:36:34</td>\n",
       "      <td>1970-01-01</td>\n",
       "      <td>20</td>\n",
       "      <td>36</td>\n",
       "      <td>1.0</td>\n",
       "      <td>1</td>\n",
       "    </tr>\n",
       "    <tr>\n",
       "      <th>14</th>\n",
       "      <td>1970-01-01 20:39:25</td>\n",
       "      <td>1970-01-01</td>\n",
       "      <td>20</td>\n",
       "      <td>39</td>\n",
       "      <td>3.0</td>\n",
       "      <td>1</td>\n",
       "    </tr>\n",
       "    <tr>\n",
       "      <th>15</th>\n",
       "      <td>1970-01-01 20:40:37</td>\n",
       "      <td>1970-01-01</td>\n",
       "      <td>20</td>\n",
       "      <td>40</td>\n",
       "      <td>1.0</td>\n",
       "      <td>1</td>\n",
       "    </tr>\n",
       "    <tr>\n",
       "      <th>16</th>\n",
       "      <td>1970-01-01 20:43:59</td>\n",
       "      <td>1970-01-01</td>\n",
       "      <td>20</td>\n",
       "      <td>43</td>\n",
       "      <td>3.0</td>\n",
       "      <td>1</td>\n",
       "    </tr>\n",
       "    <tr>\n",
       "      <th>17</th>\n",
       "      <td>1970-01-01 20:46:34</td>\n",
       "      <td>1970-01-01</td>\n",
       "      <td>20</td>\n",
       "      <td>46</td>\n",
       "      <td>3.0</td>\n",
       "      <td>1</td>\n",
       "    </tr>\n",
       "    <tr>\n",
       "      <th>18</th>\n",
       "      <td>1970-01-01 20:47:46</td>\n",
       "      <td>1970-01-01</td>\n",
       "      <td>20</td>\n",
       "      <td>47</td>\n",
       "      <td>1.0</td>\n",
       "      <td>2</td>\n",
       "    </tr>\n",
       "    <tr>\n",
       "      <th>19</th>\n",
       "      <td>1970-01-01 20:47:52</td>\n",
       "      <td>1970-01-01</td>\n",
       "      <td>20</td>\n",
       "      <td>47</td>\n",
       "      <td>0.0</td>\n",
       "      <td>2</td>\n",
       "    </tr>\n",
       "    <tr>\n",
       "      <th>20</th>\n",
       "      <td>1970-01-01 20:49:12</td>\n",
       "      <td>1970-01-01</td>\n",
       "      <td>20</td>\n",
       "      <td>49</td>\n",
       "      <td>2.0</td>\n",
       "      <td>2</td>\n",
       "    </tr>\n",
       "    <tr>\n",
       "      <th>21</th>\n",
       "      <td>1970-01-01 20:56:07</td>\n",
       "      <td>1970-01-01</td>\n",
       "      <td>20</td>\n",
       "      <td>56</td>\n",
       "      <td>7.0</td>\n",
       "      <td>2</td>\n",
       "    </tr>\n",
       "    <tr>\n",
       "      <th>22</th>\n",
       "      <td>1970-01-01 20:59:06</td>\n",
       "      <td>1970-01-01</td>\n",
       "      <td>20</td>\n",
       "      <td>59</td>\n",
       "      <td>3.0</td>\n",
       "      <td>2</td>\n",
       "    </tr>\n",
       "    <tr>\n",
       "      <th>23</th>\n",
       "      <td>1970-01-01 20:59:59</td>\n",
       "      <td>1970-01-01</td>\n",
       "      <td>20</td>\n",
       "      <td>59</td>\n",
       "      <td>0.0</td>\n",
       "      <td>2</td>\n",
       "    </tr>\n",
       "    <tr>\n",
       "      <th>24</th>\n",
       "      <td>1970-01-01 21:09:24</td>\n",
       "      <td>1970-01-01</td>\n",
       "      <td>21</td>\n",
       "      <td>9</td>\n",
       "      <td>10.0</td>\n",
       "      <td>2</td>\n",
       "    </tr>\n",
       "  </tbody>\n",
       "</table>\n",
       "</div>"
      ],
      "text/plain": [
       "            login_time        Date  Hour  Minute interval  group\n",
       "0  1970-01-01 20:12:16  1970-01-01    20      12      NaN      0\n",
       "1  1970-01-01 20:13:18  1970-01-01    20      13      1.0      0\n",
       "2  1970-01-01 20:16:10  1970-01-01    20      16      3.0      0\n",
       "3  1970-01-01 20:16:36  1970-01-01    20      16      0.0      0\n",
       "4  1970-01-01 20:16:37  1970-01-01    20      16      0.0      0\n",
       "5  1970-01-01 20:21:41  1970-01-01    20      21      5.0      0\n",
       "6  1970-01-01 20:26:05  1970-01-01    20      26      5.0      0\n",
       "7  1970-01-01 20:26:21  1970-01-01    20      26      0.0      0\n",
       "8  1970-01-01 20:31:03  1970-01-01    20      31      5.0      0\n",
       "9  1970-01-01 20:34:46  1970-01-01    20      34      3.0      1\n",
       "10 1970-01-01 20:34:58  1970-01-01    20      34      0.0      1\n",
       "11 1970-01-01 20:35:38  1970-01-01    20      35      1.0      1\n",
       "12 1970-01-01 20:35:47  1970-01-01    20      35      0.0      1\n",
       "13 1970-01-01 20:36:34  1970-01-01    20      36      1.0      1\n",
       "14 1970-01-01 20:39:25  1970-01-01    20      39      3.0      1\n",
       "15 1970-01-01 20:40:37  1970-01-01    20      40      1.0      1\n",
       "16 1970-01-01 20:43:59  1970-01-01    20      43      3.0      1\n",
       "17 1970-01-01 20:46:34  1970-01-01    20      46      3.0      1\n",
       "18 1970-01-01 20:47:46  1970-01-01    20      47      1.0      2\n",
       "19 1970-01-01 20:47:52  1970-01-01    20      47      0.0      2\n",
       "20 1970-01-01 20:49:12  1970-01-01    20      49      2.0      2\n",
       "21 1970-01-01 20:56:07  1970-01-01    20      56      7.0      2\n",
       "22 1970-01-01 20:59:06  1970-01-01    20      59      3.0      2\n",
       "23 1970-01-01 20:59:59  1970-01-01    20      59      0.0      2\n",
       "24 1970-01-01 21:09:24  1970-01-01    21       9     10.0      2"
      ]
     },
     "execution_count": 10,
     "metadata": {},
     "output_type": "execute_result"
    }
   ],
   "source": [
    "#Examining finished dataframe\n",
    "df.head(25)"
   ]
  },
  {
   "cell_type": "code",
   "execution_count": 11,
   "id": "6854eb22",
   "metadata": {},
   "outputs": [],
   "source": [
    "#Generating descriptive statistics\n",
    "logsbygroup = df.groupby(\"group\").agg({'login_time': 'min', 'interval': 'count'})\n",
    "logsbygroup.rename(columns={'interval':\"Num of Logs\"}, inplace=True)\n",
    "logsbyday = df.groupby(\"Date\").agg({'interval': 'max', 'Minute': 'count'})\n",
    "logsbyday.rename(columns={'interval': 'Max time between logins', 'Minute': 'number of logins'}, inplace=True)\n",
    "logsbyday.reset_index(inplace=True)\n",
    "logsbyday['mean#logs'] = logsbyday['number of logins'].expanding().mean()\n",
    "logsbyday['Rolling_avg'] = logsbyday['number of logins'].rolling(10).mean()\n",
    "day_group = df.groupby([\"Date\", 'group']).agg({'interval': 'mean', 'Minute': 'count'})"
   ]
  },
  {
   "cell_type": "code",
   "execution_count": 12,
   "id": "3da2eca8",
   "metadata": {},
   "outputs": [],
   "source": [
    "logsbygroup['Rolling_avg'] = logsbygroup['Num of Logs'].rolling(500).mean()\n",
    "logsbygroup['mean#logs'] = logsbygroup['Num of Logs'].expanding().mean()"
   ]
  },
  {
   "cell_type": "code",
   "execution_count": 13,
   "id": "6ac40b11",
   "metadata": {},
   "outputs": [],
   "source": [
    "avgint = df.interval.mean() #Average wait between log ins overall\n",
    "avglogday = logsbyday['number of logins'].mean() #Average count of logsins per day\n",
    "maxint = df.interval.max() #Maximum wait between logins overall\n",
    "avgday = day_group['interval'].mean() #Average wait between logsins per day\n",
    "maxgplogs = logsbygroup['Num of Logs'].max() #Maximum number of logins in 1 15 minute period\n",
    "avggplogs = logsbygroup['Num of Logs'].mean() #Avg number of logs per 15 minute period"
   ]
  },
  {
   "cell_type": "markdown",
   "id": "c79796c1",
   "metadata": {},
   "source": [
    "Report"
   ]
  },
  {
   "cell_type": "code",
   "execution_count": 14,
   "id": "f13a9535",
   "metadata": {},
   "outputs": [
    {
     "name": "stdout",
     "output_type": "stream",
     "text": [
      "On average someone logs in every 2 minutes.\n",
      "There are approximately 904 logins per day, although this average is trending upwards.\n",
      "The longest period of time between logins was 68 minutes.\n",
      "The maximum number of logins in one fifteen minute period was 69, while the average was 11\n"
     ]
    }
   ],
   "source": [
    "print(f'On average someone logs in every {round(avgint)} minutes.')\n",
    "print(f'There are approximately {round(avglogday)} logins per day, although this average is trending upwards.')\n",
    "print(f'The longest period of time between logins was {round(maxint)} minutes.')\n",
    "print(f'The maximum number of logins in one fifteen minute period was {maxgplogs}, while the average was {round(avggplogs)}')"
   ]
  },
  {
   "cell_type": "markdown",
   "id": "faa4869e",
   "metadata": {},
   "source": [
    "Vizualizations"
   ]
  },
  {
   "cell_type": "code",
   "execution_count": 15,
   "id": "d59ff0a4",
   "metadata": {},
   "outputs": [
    {
     "data": {
      "image/png": "[encoded data removed]",
      "text/plain": [
       "<Figure size 1440x720 with 1 Axes>"
      ]
     },
     "metadata": {
      "needs_background": "light"
     },
     "output_type": "display_data"
    }
   ],
   "source": [
    "plt.figure(figsize=(20, 10))\n",
    "plt.plot(logsbyday['Date'], logsbyday['number of logins'], label='Number of Logs')\n",
    "plt.plot(logsbyday['Date'], logsbyday['mean#logs'], label = 'Avg Logs per day')\n",
    "plt.plot(logsbyday['Date'], logsbyday['Rolling_avg'], label = 'Rolling Avg')\n",
    "leg = plt.legend(loc='upper center')\n",
    "title = plt.title('Average Logins Per Day')\n",
    "plt.show()"
   ]
  },
  {
   "cell_type": "markdown",
   "id": "a41bd346",
   "metadata": {},
   "source": [
    "We can see here that the average number of logs per day does appear to be growing, though it may have peaked in late March. There does appear to be seasonality with peaks each week. "
   ]
  },
  {
   "cell_type": "code",
   "execution_count": 16,
   "id": "dd5e002a",
   "metadata": {},
   "outputs": [
    {
     "data": {
      "text/plain": [
       "<function matplotlib.pyplot.show(close=None, block=None)>"
      ]
     },
     "execution_count": 16,
     "metadata": {},
     "output_type": "execute_result"
    },
    {
     "data": {
      "image/png": "[encoded data removed]",
      "text/plain": [
       "<Figure size 1440x720 with 1 Axes>"
      ]
     },
     "metadata": {
      "needs_background": "light"
     },
     "output_type": "display_data"
    }
   ],
   "source": [
    "plt.figure(figsize=(20, 10))\n",
    "plt.plot(logsbygroup['login_time'], logsbygroup['mean#logs'], label = 'Avg # Logs per 15 min')\n",
    "plt.plot(logsbygroup['login_time'], logsbygroup['Rolling_avg'], label = 'Rolling Avg')\n",
    "leg = plt.legend(loc='upper center')\n",
    "title = plt.title('Average Logins Per 15 Minutes')\n",
    "plt.show\n"
   ]
  },
  {
   "cell_type": "markdown",
   "id": "62834c1a",
   "metadata": {},
   "source": [
    "The trend persists when considering just the number of logins per 15 minute period. "
   ]
  },
  {
   "cell_type": "code",
   "execution_count": 17,
   "id": "cd305dc4",
   "metadata": {},
   "outputs": [
    {
     "data": {
      "image/png": "[encoded data removed]",
      "text/plain": [
       "<Figure size 1440x720 with 1 Axes>"
      ]
     },
     "metadata": {
      "needs_background": "light"
     },
     "output_type": "display_data"
    }
   ],
   "source": [
    "plt.figure(figsize=(20, 10))\n",
    "plt.plot(logsbyday['Date'], logsbyday['number of logins'], label='Number of Logs per Day')\n",
    "leg = plt.legend(loc='upper right')\n",
    "plt.axvline(datetime(1970, 1, 3), c = 'red')\n",
    "plt.axvline(datetime(1970, 1, 10), c = 'red')\n",
    "plt.axvline(datetime(1970, 1, 17), c = 'red')\n",
    "plt.axvline(datetime(1970, 1, 24), c = 'red')\n",
    "plt.axvline(datetime(1970, 2, 7), c = 'green')\n",
    "plt.axvline(datetime(1970, 2, 14), c = 'green')\n",
    "plt.axvline(datetime(1970, 2, 21), c = 'green')\n",
    "plt.axvline(datetime(1970, 2, 28), c = 'green')\n",
    "plt.axvline(datetime(1970, 3, 7), c = 'orange')\n",
    "plt.axvline(datetime(1970, 3, 14), c = 'orange')\n",
    "plt.axvline(datetime(1970, 3, 21), c = 'orange')\n",
    "plt.axvline(datetime(1970, 3, 28), c = 'orange')\n",
    "title = plt.title('Weekly Peaks')\n",
    "plt.show()"
   ]
  },
  {
   "cell_type": "markdown",
   "id": "a63a3a21",
   "metadata": {},
   "source": [
    "The peaks in usage seem to correspond to weekends. Each line represents a Saturday.\n",
    "\n",
    "Red = January\n",
    "\n",
    "Green = February\n",
    "\n",
    "Orange = March"
   ]
  },
  {
   "cell_type": "markdown",
   "id": "6b069b89",
   "metadata": {},
   "source": [
    "# Part 2"
   ]
  },
  {
   "cell_type": "markdown",
   "id": "4a0acfa3",
   "metadata": {},
   "source": [
    "What would you choose as the key measure of success of this experiment in\n",
    "encouraging driver partners to serve both cities, and why would you choose this metric?\n",
    "\n",
    "I think that average distance would illustrate more drivers going between both cities. We could concider the mean avg_dist after beginning the experiment and then compare it to the mean from before the free tolls. \n",
    "\n",
    "Describe a practical experiment you would design to compare the effectiveness of the\n",
    "proposed change in relation to the key measure of success. Please provide details on:\n",
    "\n",
    "\n",
    "    a) how you will implement the experiment: I'd conduct an a/b test. Provide a promotion to half of the users for 1 month. Compare the target metrics of the two groups to each other and then to the previous month's metrics.\n",
    "    \n",
    "    b) what statistical test(s) you will conduct to verify the significance of the\n",
    "    observation: For the month of January there were 50000 rows. Since Gotham and Metropolis are both large metropolitain areas I think it would be safe to plan for a similair amount of entries for those cities. Assuming 30000 (to be safe), a sample of 7275 would be needed to achieve a confidence level of 95% and a confidence interval of 1 according to this (https://www.surveysystem.com/sscalc.htm) sample size calculator. Permutation sample 8000 from each group in the 30000 total population and then generate the p value for results against the null hypothesis that both groups would have the same average distance traveled. \n",
    "\n",
    "    c) how you would interpret the results and provide recommendations to the city\n",
    "    operations team along with any caveats. I would begin with the reccommendation either for or against the toll reimbursement based on my findings. From there I would build a case for my suggestion by briefly explaining my methodology and results. A p value of less than 0.05 would allow me to suggest moving forward with the initiative, but I would be clear that the p-value only represented that a small fraction of the simulated results would occur even if the null hypothesis were true and that a low p-value does not guarantee success. \n"
   ]
  },
  {
   "cell_type": "markdown",
   "id": "a118306c",
   "metadata": {},
   "source": [
    "# Part 3"
   ]
  },
  {
   "cell_type": "code",
   "execution_count": 18,
   "id": "21943180",
   "metadata": {},
   "outputs": [],
   "source": [
    "#Loading dataset\n",
    "ultimate = pd.read_csv('ultimate.csv')"
   ]
  },
  {
   "cell_type": "code",
   "execution_count": 19,
   "id": "e9ac5f5c",
   "metadata": {},
   "outputs": [
    {
     "data": {
      "text/html": [
       "<div>\n",
       "<style scoped>\n",
       "    .dataframe tbody tr th:only-of-type {\n",
       "        vertical-align: middle;\n",
       "    }\n",
       "\n",
       "    .dataframe tbody tr th {\n",
       "        vertical-align: top;\n",
       "    }\n",
       "\n",
       "    .dataframe thead th {\n",
       "        text-align: right;\n",
       "    }\n",
       "</style>\n",
       "<table border=\"1\" class=\"dataframe\">\n",
       "  <thead>\n",
       "    <tr style=\"text-align: right;\">\n",
       "      <th></th>\n",
       "      <th>Unnamed: 0</th>\n",
       "      <th>city</th>\n",
       "      <th>trips_in_first_30_days</th>\n",
       "      <th>signup_date</th>\n",
       "      <th>avg_rating_of_driver</th>\n",
       "      <th>avg_surge</th>\n",
       "      <th>last_trip_date</th>\n",
       "      <th>phone</th>\n",
       "      <th>surge_pct</th>\n",
       "      <th>ultimate_black_user</th>\n",
       "      <th>weekday_pct</th>\n",
       "      <th>avg_dist</th>\n",
       "      <th>avg_rating_by_driver</th>\n",
       "    </tr>\n",
       "  </thead>\n",
       "  <tbody>\n",
       "    <tr>\n",
       "      <th>0</th>\n",
       "      <td>0</td>\n",
       "      <td>King's Landing</td>\n",
       "      <td>4</td>\n",
       "      <td>2014-01-25</td>\n",
       "      <td>4.7</td>\n",
       "      <td>1.10</td>\n",
       "      <td>2014-06-17</td>\n",
       "      <td>iPhone</td>\n",
       "      <td>15.4</td>\n",
       "      <td>True</td>\n",
       "      <td>46.2</td>\n",
       "      <td>3.67</td>\n",
       "      <td>5.0</td>\n",
       "    </tr>\n",
       "    <tr>\n",
       "      <th>1</th>\n",
       "      <td>1</td>\n",
       "      <td>Astapor</td>\n",
       "      <td>0</td>\n",
       "      <td>2014-01-29</td>\n",
       "      <td>5.0</td>\n",
       "      <td>1.00</td>\n",
       "      <td>2014-05-05</td>\n",
       "      <td>Android</td>\n",
       "      <td>0.0</td>\n",
       "      <td>False</td>\n",
       "      <td>50.0</td>\n",
       "      <td>8.26</td>\n",
       "      <td>5.0</td>\n",
       "    </tr>\n",
       "    <tr>\n",
       "      <th>2</th>\n",
       "      <td>2</td>\n",
       "      <td>Astapor</td>\n",
       "      <td>3</td>\n",
       "      <td>2014-01-06</td>\n",
       "      <td>4.3</td>\n",
       "      <td>1.00</td>\n",
       "      <td>2014-01-07</td>\n",
       "      <td>iPhone</td>\n",
       "      <td>0.0</td>\n",
       "      <td>False</td>\n",
       "      <td>100.0</td>\n",
       "      <td>0.77</td>\n",
       "      <td>5.0</td>\n",
       "    </tr>\n",
       "    <tr>\n",
       "      <th>3</th>\n",
       "      <td>3</td>\n",
       "      <td>King's Landing</td>\n",
       "      <td>9</td>\n",
       "      <td>2014-01-10</td>\n",
       "      <td>4.6</td>\n",
       "      <td>1.14</td>\n",
       "      <td>2014-06-29</td>\n",
       "      <td>iPhone</td>\n",
       "      <td>20.0</td>\n",
       "      <td>True</td>\n",
       "      <td>80.0</td>\n",
       "      <td>2.36</td>\n",
       "      <td>4.9</td>\n",
       "    </tr>\n",
       "    <tr>\n",
       "      <th>4</th>\n",
       "      <td>4</td>\n",
       "      <td>Winterfell</td>\n",
       "      <td>14</td>\n",
       "      <td>2014-01-27</td>\n",
       "      <td>4.4</td>\n",
       "      <td>1.19</td>\n",
       "      <td>2014-03-15</td>\n",
       "      <td>Android</td>\n",
       "      <td>11.8</td>\n",
       "      <td>False</td>\n",
       "      <td>82.4</td>\n",
       "      <td>3.13</td>\n",
       "      <td>4.9</td>\n",
       "    </tr>\n",
       "  </tbody>\n",
       "</table>\n",
       "</div>"
      ],
      "text/plain": [
       "   Unnamed: 0            city  trips_in_first_30_days signup_date  \\\n",
       "0           0  King's Landing                       4  2014-01-25   \n",
       "1           1         Astapor                       0  2014-01-29   \n",
       "2           2         Astapor                       3  2014-01-06   \n",
       "3           3  King's Landing                       9  2014-01-10   \n",
       "4           4      Winterfell                      14  2014-01-27   \n",
       "\n",
       "   avg_rating_of_driver  avg_surge last_trip_date    phone  surge_pct  \\\n",
       "0                   4.7       1.10     2014-06-17   iPhone       15.4   \n",
       "1                   5.0       1.00     2014-05-05  Android        0.0   \n",
       "2                   4.3       1.00     2014-01-07   iPhone        0.0   \n",
       "3                   4.6       1.14     2014-06-29   iPhone       20.0   \n",
       "4                   4.4       1.19     2014-03-15  Android       11.8   \n",
       "\n",
       "   ultimate_black_user  weekday_pct  avg_dist  avg_rating_by_driver  \n",
       "0                 True         46.2      3.67                   5.0  \n",
       "1                False         50.0      8.26                   5.0  \n",
       "2                False        100.0      0.77                   5.0  \n",
       "3                 True         80.0      2.36                   4.9  \n",
       "4                False         82.4      3.13                   4.9  "
      ]
     },
     "execution_count": 19,
     "metadata": {},
     "output_type": "execute_result"
    }
   ],
   "source": [
    "ultimate.head()"
   ]
  },
  {
   "cell_type": "code",
   "execution_count": 20,
   "id": "b06a5d91",
   "metadata": {},
   "outputs": [
    {
     "name": "stdout",
     "output_type": "stream",
     "text": [
      "<class 'pandas.core.frame.DataFrame'>\n",
      "RangeIndex: 50000 entries, 0 to 49999\n",
      "Data columns (total 13 columns):\n",
      " #   Column                  Non-Null Count  Dtype  \n",
      "---  ------                  --------------  -----  \n",
      " 0   Unnamed: 0              50000 non-null  int64  \n",
      " 1   city                    50000 non-null  object \n",
      " 2   trips_in_first_30_days  50000 non-null  int64  \n",
      " 3   signup_date             50000 non-null  object \n",
      " 4   avg_rating_of_driver    41878 non-null  float64\n",
      " 5   avg_surge               50000 non-null  float64\n",
      " 6   last_trip_date          50000 non-null  object \n",
      " 7   phone                   49604 non-null  object \n",
      " 8   surge_pct               50000 non-null  float64\n",
      " 9   ultimate_black_user     50000 non-null  bool   \n",
      " 10  weekday_pct             50000 non-null  float64\n",
      " 11  avg_dist                50000 non-null  float64\n",
      " 12  avg_rating_by_driver    49799 non-null  float64\n",
      "dtypes: bool(1), float64(6), int64(2), object(4)\n",
      "memory usage: 4.6+ MB\n"
     ]
    }
   ],
   "source": [
    "#Checking datatypes and summary statistics\n",
    "ultimate.info()"
   ]
  },
  {
   "cell_type": "code",
   "execution_count": 21,
   "id": "f53d726a",
   "metadata": {},
   "outputs": [
    {
     "data": {
      "text/html": [
       "<div>\n",
       "<style scoped>\n",
       "    .dataframe tbody tr th:only-of-type {\n",
       "        vertical-align: middle;\n",
       "    }\n",
       "\n",
       "    .dataframe tbody tr th {\n",
       "        vertical-align: top;\n",
       "    }\n",
       "\n",
       "    .dataframe thead th {\n",
       "        text-align: right;\n",
       "    }\n",
       "</style>\n",
       "<table border=\"1\" class=\"dataframe\">\n",
       "  <thead>\n",
       "    <tr style=\"text-align: right;\">\n",
       "      <th></th>\n",
       "      <th>Unnamed: 0</th>\n",
       "      <th>trips_in_first_30_days</th>\n",
       "      <th>avg_rating_of_driver</th>\n",
       "      <th>avg_surge</th>\n",
       "      <th>surge_pct</th>\n",
       "      <th>weekday_pct</th>\n",
       "      <th>avg_dist</th>\n",
       "      <th>avg_rating_by_driver</th>\n",
       "    </tr>\n",
       "  </thead>\n",
       "  <tbody>\n",
       "    <tr>\n",
       "      <th>count</th>\n",
       "      <td>50000.000000</td>\n",
       "      <td>50000.000000</td>\n",
       "      <td>41878.000000</td>\n",
       "      <td>50000.000000</td>\n",
       "      <td>50000.000000</td>\n",
       "      <td>50000.000000</td>\n",
       "      <td>50000.000000</td>\n",
       "      <td>49799.000000</td>\n",
       "    </tr>\n",
       "    <tr>\n",
       "      <th>mean</th>\n",
       "      <td>24999.500000</td>\n",
       "      <td>2.278200</td>\n",
       "      <td>4.601559</td>\n",
       "      <td>1.074764</td>\n",
       "      <td>8.849536</td>\n",
       "      <td>60.926084</td>\n",
       "      <td>5.796827</td>\n",
       "      <td>4.778158</td>\n",
       "    </tr>\n",
       "    <tr>\n",
       "      <th>std</th>\n",
       "      <td>14433.901067</td>\n",
       "      <td>3.792684</td>\n",
       "      <td>0.617338</td>\n",
       "      <td>0.222336</td>\n",
       "      <td>19.958811</td>\n",
       "      <td>37.081503</td>\n",
       "      <td>5.707357</td>\n",
       "      <td>0.446652</td>\n",
       "    </tr>\n",
       "    <tr>\n",
       "      <th>min</th>\n",
       "      <td>0.000000</td>\n",
       "      <td>0.000000</td>\n",
       "      <td>1.000000</td>\n",
       "      <td>1.000000</td>\n",
       "      <td>0.000000</td>\n",
       "      <td>0.000000</td>\n",
       "      <td>0.000000</td>\n",
       "      <td>1.000000</td>\n",
       "    </tr>\n",
       "    <tr>\n",
       "      <th>25%</th>\n",
       "      <td>12499.750000</td>\n",
       "      <td>0.000000</td>\n",
       "      <td>4.300000</td>\n",
       "      <td>1.000000</td>\n",
       "      <td>0.000000</td>\n",
       "      <td>33.300000</td>\n",
       "      <td>2.420000</td>\n",
       "      <td>4.700000</td>\n",
       "    </tr>\n",
       "    <tr>\n",
       "      <th>50%</th>\n",
       "      <td>24999.500000</td>\n",
       "      <td>1.000000</td>\n",
       "      <td>4.900000</td>\n",
       "      <td>1.000000</td>\n",
       "      <td>0.000000</td>\n",
       "      <td>66.700000</td>\n",
       "      <td>3.880000</td>\n",
       "      <td>5.000000</td>\n",
       "    </tr>\n",
       "    <tr>\n",
       "      <th>75%</th>\n",
       "      <td>37499.250000</td>\n",
       "      <td>3.000000</td>\n",
       "      <td>5.000000</td>\n",
       "      <td>1.050000</td>\n",
       "      <td>8.600000</td>\n",
       "      <td>100.000000</td>\n",
       "      <td>6.940000</td>\n",
       "      <td>5.000000</td>\n",
       "    </tr>\n",
       "    <tr>\n",
       "      <th>max</th>\n",
       "      <td>49999.000000</td>\n",
       "      <td>125.000000</td>\n",
       "      <td>5.000000</td>\n",
       "      <td>8.000000</td>\n",
       "      <td>100.000000</td>\n",
       "      <td>100.000000</td>\n",
       "      <td>160.960000</td>\n",
       "      <td>5.000000</td>\n",
       "    </tr>\n",
       "  </tbody>\n",
       "</table>\n",
       "</div>"
      ],
      "text/plain": [
       "         Unnamed: 0  trips_in_first_30_days  avg_rating_of_driver  \\\n",
       "count  50000.000000            50000.000000          41878.000000   \n",
       "mean   24999.500000                2.278200              4.601559   \n",
       "std    14433.901067                3.792684              0.617338   \n",
       "min        0.000000                0.000000              1.000000   \n",
       "25%    12499.750000                0.000000              4.300000   \n",
       "50%    24999.500000                1.000000              4.900000   \n",
       "75%    37499.250000                3.000000              5.000000   \n",
       "max    49999.000000              125.000000              5.000000   \n",
       "\n",
       "          avg_surge     surge_pct   weekday_pct      avg_dist  \\\n",
       "count  50000.000000  50000.000000  50000.000000  50000.000000   \n",
       "mean       1.074764      8.849536     60.926084      5.796827   \n",
       "std        0.222336     19.958811     37.081503      5.707357   \n",
       "min        1.000000      0.000000      0.000000      0.000000   \n",
       "25%        1.000000      0.000000     33.300000      2.420000   \n",
       "50%        1.000000      0.000000     66.700000      3.880000   \n",
       "75%        1.050000      8.600000    100.000000      6.940000   \n",
       "max        8.000000    100.000000    100.000000    160.960000   \n",
       "\n",
       "       avg_rating_by_driver  \n",
       "count          49799.000000  \n",
       "mean               4.778158  \n",
       "std                0.446652  \n",
       "min                1.000000  \n",
       "25%                4.700000  \n",
       "50%                5.000000  \n",
       "75%                5.000000  \n",
       "max                5.000000  "
      ]
     },
     "execution_count": 21,
     "metadata": {},
     "output_type": "execute_result"
    }
   ],
   "source": [
    "#Several null values for phone, and driver ratings.For phone I'll just replace with a dummy phone number.\n",
    "ultimate.describe()"
   ]
  },
  {
   "cell_type": "code",
   "execution_count": 22,
   "id": "1e81d867",
   "metadata": {},
   "outputs": [
    {
     "name": "stdout",
     "output_type": "stream",
     "text": [
      "city\n",
      "trips_in_first_30_days\n",
      "signup_date\n",
      "avg_rating_of_driver\n",
      "avg_surge\n",
      "last_trip_date\n",
      "phone\n",
      "surge_pct\n",
      "ultimate_black_user\n",
      "weekday_pct\n",
      "avg_dist\n",
      "avg_rating_by_driver\n"
     ]
    }
   ],
   "source": [
    "for i in ultimate.columns[1:]:\n",
    "    print (i)"
   ]
  },
  {
   "cell_type": "code",
   "execution_count": 23,
   "id": "3087221e",
   "metadata": {},
   "outputs": [
    {
     "data": {
      "text/plain": [
       "Winterfell        23336\n",
       "Astapor           16534\n",
       "King's Landing    10130\n",
       "Name: city, dtype: int64"
      ]
     },
     "execution_count": 23,
     "metadata": {},
     "output_type": "execute_result"
    }
   ],
   "source": [
    "ultimate.city.value_counts()"
   ]
  },
  {
   "cell_type": "code",
   "execution_count": 24,
   "id": "39e0a03b",
   "metadata": {},
   "outputs": [
    {
     "data": {
      "text/plain": [
       "(array([4.875e+04, 1.043e+03, 1.600e+02, 3.200e+01, 1.100e+01, 3.000e+00,\n",
       "        0.000e+00, 0.000e+00, 0.000e+00, 1.000e+00]),\n",
       " array([  0. ,  12.5,  25. ,  37.5,  50. ,  62.5,  75. ,  87.5, 100. ,\n",
       "        112.5, 125. ]),\n",
       " <BarContainer object of 10 artists>)"
      ]
     },
     "execution_count": 24,
     "metadata": {},
     "output_type": "execute_result"
    },
    {
     "data": {
      "image/png": "[encoded data removed]",
      "text/plain": [
       "<Figure size 432x288 with 1 Axes>"
      ]
     },
     "metadata": {
      "needs_background": "light"
     },
     "output_type": "display_data"
    }
   ],
   "source": [
    "fig, ax = plt.subplots()\n",
    "ax.hist(ultimate['trips_in_first_30_days'])"
   ]
  },
  {
   "cell_type": "code",
   "execution_count": 25,
   "id": "ec315bc4",
   "metadata": {},
   "outputs": [],
   "source": [
    "manytrips = ultimate[ultimate['trips_in_first_30_days'] > 40]"
   ]
  },
  {
   "cell_type": "code",
   "execution_count": 26,
   "id": "c8199a7d",
   "metadata": {},
   "outputs": [
    {
     "data": {
      "image/png": "[encoded data removed]",
      "text/plain": [
       "<Figure size 432x288 with 1 Axes>"
      ]
     },
     "metadata": {
      "needs_background": "light"
     },
     "output_type": "display_data"
    }
   ],
   "source": [
    "fig, ax = plt.subplots()\n",
    "ax.boxplot(ultimate['trips_in_first_30_days'])\n",
    "plt.show()"
   ]
  },
  {
   "cell_type": "code",
   "execution_count": 27,
   "id": "abde1c8c",
   "metadata": {},
   "outputs": [
    {
     "data": {
      "text/plain": [
       "48.0"
      ]
     },
     "execution_count": 27,
     "metadata": {},
     "output_type": "execute_result"
    }
   ],
   "source": [
    "manytrips['trips_in_first_30_days'].median()"
   ]
  },
  {
   "cell_type": "code",
   "execution_count": 28,
   "id": "fc35165d",
   "metadata": {},
   "outputs": [
    {
     "data": {
      "text/plain": [
       "35"
      ]
     },
     "execution_count": 28,
     "metadata": {},
     "output_type": "execute_result"
    }
   ],
   "source": [
    "len(manytrips)"
   ]
  },
  {
   "cell_type": "code",
   "execution_count": 29,
   "id": "da0c5993",
   "metadata": {},
   "outputs": [],
   "source": [
    "#Lots of outliers here. In this case I'll reduce it to prevent the really large numbers from causing too much sway.\n",
    "ultimate = ultimate[ultimate['trips_in_first_30_days'] < 28]"
   ]
  },
  {
   "cell_type": "code",
   "execution_count": 30,
   "id": "649967d3",
   "metadata": {},
   "outputs": [
    {
     "data": {
      "image/png": "[encoded data removed]",
      "text/plain": [
       "<Figure size 432x288 with 1 Axes>"
      ]
     },
     "metadata": {
      "needs_background": "light"
     },
     "output_type": "display_data"
    }
   ],
   "source": [
    "fig, ax = plt.subplots()\n",
    "ax.boxplot(ultimate['trips_in_first_30_days'])\n",
    "plt.show()"
   ]
  },
  {
   "cell_type": "code",
   "execution_count": 31,
   "id": "759263e2",
   "metadata": {},
   "outputs": [
    {
     "data": {
      "text/plain": [
       "2014-01-18    2943\n",
       "2014-01-25    2877\n",
       "2014-01-11    2399\n",
       "2014-01-24    2278\n",
       "2014-01-17    2141\n",
       "2014-01-31    2099\n",
       "2014-01-19    2024\n",
       "2014-01-10    2011\n",
       "2014-01-06    1757\n",
       "2014-01-01    1732\n",
       "2014-01-26    1705\n",
       "2014-01-23    1599\n",
       "2014-01-07    1482\n",
       "2014-01-04    1480\n",
       "2014-01-30    1469\n",
       "2014-01-09    1431\n",
       "2014-01-16    1428\n",
       "2014-01-22    1360\n",
       "2014-01-05    1340\n",
       "2014-01-12    1334\n",
       "2014-01-20    1291\n",
       "2014-01-28    1279\n",
       "2014-01-08    1272\n",
       "2014-01-27    1232\n",
       "2014-01-21    1226\n",
       "2014-01-03    1211\n",
       "2014-01-29    1192\n",
       "2014-01-14    1116\n",
       "2014-01-15    1107\n",
       "2014-01-13    1043\n",
       "2014-01-02    1002\n",
       "Name: signup_date, dtype: int64"
      ]
     },
     "execution_count": 31,
     "metadata": {},
     "output_type": "execute_result"
    }
   ],
   "source": [
    "ultimate['signup_date'].value_counts()"
   ]
  },
  {
   "cell_type": "code",
   "execution_count": 32,
   "id": "2de22bde",
   "metadata": {},
   "outputs": [
    {
     "data": {
      "text/plain": [
       "8122"
      ]
     },
     "execution_count": 32,
     "metadata": {},
     "output_type": "execute_result"
    }
   ],
   "source": [
    "#No erroneous values there. \n",
    "ultimate.avg_rating_of_driver.isnull().sum()"
   ]
  },
  {
   "cell_type": "code",
   "execution_count": 33,
   "id": "186edb0b",
   "metadata": {},
   "outputs": [
    {
     "data": {
      "text/plain": [
       "41738"
      ]
     },
     "execution_count": 33,
     "metadata": {},
     "output_type": "execute_result"
    }
   ],
   "source": [
    "ultimate.avg_rating_of_driver.count()"
   ]
  },
  {
   "cell_type": "code",
   "execution_count": 34,
   "id": "60cf9f08",
   "metadata": {},
   "outputs": [
    {
     "data": {
      "text/plain": [
       "49860"
      ]
     },
     "execution_count": 34,
     "metadata": {},
     "output_type": "execute_result"
    }
   ],
   "source": [
    "len(ultimate)"
   ]
  },
  {
   "cell_type": "code",
   "execution_count": 35,
   "id": "50a00e45",
   "metadata": {},
   "outputs": [
    {
     "data": {
      "text/plain": [
       "(array([2.5600e+02, 7.0000e+00, 2.1700e+02, 1.2000e+02, 1.0000e+02,\n",
       "        1.4000e+03, 1.4480e+03, 4.8340e+03, 5.4020e+03, 2.7954e+04]),\n",
       " array([1. , 1.4, 1.8, 2.2, 2.6, 3. , 3.4, 3.8, 4.2, 4.6, 5. ]),\n",
       " <BarContainer object of 10 artists>)"
      ]
     },
     "execution_count": 35,
     "metadata": {},
     "output_type": "execute_result"
    },
    {
     "data": {
      "image/png": "[encoded data removed]",
      "text/plain": [
       "<Figure size 432x288 with 1 Axes>"
      ]
     },
     "metadata": {
      "needs_background": "light"
     },
     "output_type": "display_data"
    }
   ],
   "source": [
    "fig, ax = plt.subplots()\n",
    "ax.hist(ultimate['avg_rating_of_driver'])"
   ]
  },
  {
   "cell_type": "code",
   "execution_count": 36,
   "id": "dd014d35",
   "metadata": {},
   "outputs": [
    {
     "data": {
      "text/plain": [
       "(array([2.5600e+02, 7.0000e+00, 2.1700e+02, 1.2000e+02, 1.0000e+02,\n",
       "        1.4000e+03, 1.4480e+03, 4.8340e+03, 5.4020e+03, 3.6076e+04]),\n",
       " array([1. , 1.4, 1.8, 2.2, 2.6, 3. , 3.4, 3.8, 4.2, 4.6, 5. ]),\n",
       " <BarContainer object of 10 artists>)"
      ]
     },
     "execution_count": 36,
     "metadata": {},
     "output_type": "execute_result"
    },
    {
     "data": {
      "image/png": "[encoded data removed]",
      "text/plain": [
       "<Figure size 432x288 with 1 Axes>"
      ]
     },
     "metadata": {
      "needs_background": "light"
     },
     "output_type": "display_data"
    }
   ],
   "source": [
    "#That's too many missing values to drop. I'll fill with the median here since the data is skewed.\n",
    "drivermed = ultimate['avg_rating_of_driver'].median()\n",
    "ultimate['avg_rating_of_driver'].fillna(drivermed, inplace=True)\n",
    "#Lets take a look at what this does to the distribution\n",
    "fig, ax = plt.subplots()\n",
    "ax.hist(ultimate['avg_rating_of_driver'])"
   ]
  },
  {
   "cell_type": "code",
   "execution_count": 37,
   "id": "f04e0faf",
   "metadata": {},
   "outputs": [],
   "source": [
    "#Distribution looks roughly the same. Moving on. \n"
   ]
  },
  {
   "cell_type": "code",
   "execution_count": 38,
   "id": "2bf241d9",
   "metadata": {},
   "outputs": [
    {
     "data": {
      "text/plain": [
       "(array([4.8701e+04, 8.5800e+02, 2.3400e+02, 3.8000e+01, 1.7000e+01,\n",
       "        1.0000e+01, 1.0000e+00, 0.0000e+00, 0.0000e+00, 1.0000e+00]),\n",
       " array([1. , 1.7, 2.4, 3.1, 3.8, 4.5, 5.2, 5.9, 6.6, 7.3, 8. ]),\n",
       " <BarContainer object of 10 artists>)"
      ]
     },
     "execution_count": 38,
     "metadata": {},
     "output_type": "execute_result"
    },
    {
     "data": {
      "image/png": "[encoded data removed]",
      "text/plain": [
       "<Figure size 432x288 with 1 Axes>"
      ]
     },
     "metadata": {
      "needs_background": "light"
     },
     "output_type": "display_data"
    }
   ],
   "source": [
    "fig, ax = plt.subplots()\n",
    "ax.hist(ultimate['avg_surge'])"
   ]
  },
  {
   "cell_type": "code",
   "execution_count": 39,
   "id": "1e68beda",
   "metadata": {},
   "outputs": [
    {
     "data": {
      "image/png": "[encoded data removed]",
      "text/plain": [
       "<Figure size 432x288 with 1 Axes>"
      ]
     },
     "metadata": {
      "needs_background": "light"
     },
     "output_type": "display_data"
    }
   ],
   "source": [
    "fig, ax = plt.subplots()\n",
    "ax.boxplot(ultimate['avg_surge'])\n",
    "plt.show()"
   ]
  },
  {
   "cell_type": "code",
   "execution_count": 40,
   "id": "c3cbef95",
   "metadata": {},
   "outputs": [
    {
     "data": {
      "image/png": "[encoded data removed]",
      "text/plain": [
       "<Figure size 432x288 with 1 Axes>"
      ]
     },
     "metadata": {
      "needs_background": "light"
     },
     "output_type": "display_data"
    }
   ],
   "source": [
    "#I'll drop the most extreme outliers.\n",
    "ultimate = ultimate[ultimate['avg_surge'] < 3]\n",
    "fig, ax = plt.subplots()\n",
    "ax.boxplot(ultimate['avg_surge'])\n",
    "plt.show()"
   ]
  },
  {
   "cell_type": "code",
   "execution_count": 41,
   "id": "f1be6431",
   "metadata": {},
   "outputs": [
    {
     "data": {
      "text/plain": [
       "str"
      ]
     },
     "execution_count": 41,
     "metadata": {},
     "output_type": "execute_result"
    }
   ],
   "source": [
    "type(ultimate.last_trip_date.iloc[1])"
   ]
  },
  {
   "cell_type": "code",
   "execution_count": 42,
   "id": "0817f04d",
   "metadata": {},
   "outputs": [],
   "source": [
    "#The dates for the last trip are strings. I'll convert those and signup date to datetimes. If there is an error it will mean \n",
    "#There is a problem with one of these features.\n",
    "sudates = pd.to_datetime(ultimate['signup_date'])"
   ]
  },
  {
   "cell_type": "code",
   "execution_count": 43,
   "id": "b2014304",
   "metadata": {},
   "outputs": [
    {
     "data": {
      "text/plain": [
       "pandas._libs.tslibs.timestamps.Timestamp"
      ]
     },
     "execution_count": 43,
     "metadata": {},
     "output_type": "execute_result"
    }
   ],
   "source": [
    "ultimate['dt_signup_date'] = sudates\n",
    "type(ultimate['dt_signup_date'].iloc[1])"
   ]
  },
  {
   "cell_type": "code",
   "execution_count": 44,
   "id": "21bedce2",
   "metadata": {},
   "outputs": [
    {
     "data": {
      "text/plain": [
       "pandas._libs.tslibs.timestamps.Timestamp"
      ]
     },
     "execution_count": 44,
     "metadata": {},
     "output_type": "execute_result"
    }
   ],
   "source": [
    "ltdate = pd.to_datetime(ultimate['last_trip_date'])\n",
    "ultimate['dt_last_trip_date'] = sudates\n",
    "type(ultimate['dt_last_trip_date'].iloc[1])"
   ]
  },
  {
   "cell_type": "code",
   "execution_count": 45,
   "id": "4e274752",
   "metadata": {},
   "outputs": [
    {
     "name": "stdout",
     "output_type": "stream",
     "text": [
      "2014-01-01 00:00:00\n",
      "2014-01-31 00:00:00\n",
      "2014-01-01 00:00:00\n",
      "2014-01-31 00:00:00\n"
     ]
    }
   ],
   "source": [
    "print(min(ultimate['dt_signup_date']))\n",
    "print(max(ultimate['dt_signup_date']))\n",
    "print(min(ultimate['dt_last_trip_date']))\n",
    "print(max(ultimate['dt_last_trip_date']))"
   ]
  },
  {
   "cell_type": "code",
   "execution_count": 46,
   "id": "3d7637e0",
   "metadata": {},
   "outputs": [
    {
     "data": {
      "text/plain": [
       "iPhone     34368\n",
       "Android    14952\n",
       "Name: phone, dtype: int64"
      ]
     },
     "execution_count": 46,
     "metadata": {},
     "output_type": "execute_result"
    }
   ],
   "source": [
    "ultimate['phone'].value_counts()"
   ]
  },
  {
   "cell_type": "code",
   "execution_count": 47,
   "id": "7a7cd1ad",
   "metadata": {},
   "outputs": [
    {
     "data": {
      "text/plain": [
       "395"
      ]
     },
     "execution_count": 47,
     "metadata": {},
     "output_type": "execute_result"
    }
   ],
   "source": [
    "sum(ultimate['phone'].isnull())"
   ]
  },
  {
   "cell_type": "code",
   "execution_count": 48,
   "id": "ce8151dd",
   "metadata": {},
   "outputs": [],
   "source": [
    "#Wow, no third party devices. Let's just take care of null values. Here I'll fill with a random choice between the two, but\n",
    "#more heavily weighted toward iPhone. It shouldn't be a problem with such a small amount of nulls. \n",
    "phonelist = ['iPhone', 'iPhone', 'iPhone', 'Android']\n",
    "ultimate['phone'] = ultimate['phone'].fillna('iPhone')"
   ]
  },
  {
   "cell_type": "code",
   "execution_count": 49,
   "id": "ef00439f",
   "metadata": {},
   "outputs": [
    {
     "data": {
      "text/html": [
       "<div>\n",
       "<style scoped>\n",
       "    .dataframe tbody tr th:only-of-type {\n",
       "        vertical-align: middle;\n",
       "    }\n",
       "\n",
       "    .dataframe tbody tr th {\n",
       "        vertical-align: top;\n",
       "    }\n",
       "\n",
       "    .dataframe thead th {\n",
       "        text-align: right;\n",
       "    }\n",
       "</style>\n",
       "<table border=\"1\" class=\"dataframe\">\n",
       "  <thead>\n",
       "    <tr style=\"text-align: right;\">\n",
       "      <th></th>\n",
       "      <th>Unnamed: 0</th>\n",
       "      <th>city</th>\n",
       "      <th>trips_in_first_30_days</th>\n",
       "      <th>signup_date</th>\n",
       "      <th>avg_rating_of_driver</th>\n",
       "      <th>avg_surge</th>\n",
       "      <th>last_trip_date</th>\n",
       "      <th>phone</th>\n",
       "      <th>surge_pct</th>\n",
       "      <th>ultimate_black_user</th>\n",
       "      <th>weekday_pct</th>\n",
       "      <th>avg_dist</th>\n",
       "      <th>avg_rating_by_driver</th>\n",
       "      <th>dt_signup_date</th>\n",
       "      <th>dt_last_trip_date</th>\n",
       "    </tr>\n",
       "  </thead>\n",
       "  <tbody>\n",
       "  </tbody>\n",
       "</table>\n",
       "</div>"
      ],
      "text/plain": [
       "Empty DataFrame\n",
       "Columns: [Unnamed: 0, city, trips_in_first_30_days, signup_date, avg_rating_of_driver, avg_surge, last_trip_date, phone, surge_pct, ultimate_black_user, weekday_pct, avg_dist, avg_rating_by_driver, dt_signup_date, dt_last_trip_date]\n",
       "Index: []"
      ]
     },
     "execution_count": 49,
     "metadata": {},
     "output_type": "execute_result"
    }
   ],
   "source": [
    "ultimate[ultimate['phone'].isnull()]"
   ]
  },
  {
   "cell_type": "code",
   "execution_count": 50,
   "id": "d0a1a112",
   "metadata": {},
   "outputs": [
    {
     "data": {
      "text/plain": [
       "(49715, 15)"
      ]
     },
     "execution_count": 50,
     "metadata": {},
     "output_type": "execute_result"
    }
   ],
   "source": [
    "ultimate.shape"
   ]
  },
  {
   "cell_type": "code",
   "execution_count": 51,
   "id": "7e7dd070",
   "metadata": {},
   "outputs": [
    {
     "data": {
      "text/plain": [
       "<AxesSubplot:>"
      ]
     },
     "execution_count": 51,
     "metadata": {},
     "output_type": "execute_result"
    },
    {
     "data": {
      "image/png": "[encoded data removed]",
      "text/plain": [
       "<Figure size 432x288 with 1 Axes>"
      ]
     },
     "metadata": {
      "needs_background": "light"
     },
     "output_type": "display_data"
    }
   ],
   "source": [
    "ultimate['surge_pct'].hist()"
   ]
  },
  {
   "cell_type": "code",
   "execution_count": 52,
   "id": "f87b1c83",
   "metadata": {},
   "outputs": [
    {
     "data": {
      "image/png": "[encoded data removed]",
      "text/plain": [
       "<Figure size 432x288 with 1 Axes>"
      ]
     },
     "metadata": {
      "needs_background": "light"
     },
     "output_type": "display_data"
    }
   ],
   "source": [
    "fig, ax = plt.subplots()\n",
    "ax.boxplot(ultimate['surge_pct'])\n",
    "plt.show()"
   ]
  },
  {
   "cell_type": "code",
   "execution_count": 53,
   "id": "ce707bed",
   "metadata": {},
   "outputs": [],
   "source": [
    "#Reducing extremety of outliers\n",
    "ultimate = ultimate[ultimate['surge_pct'] < 40]"
   ]
  },
  {
   "cell_type": "code",
   "execution_count": 54,
   "id": "f2c0d9fa",
   "metadata": {},
   "outputs": [
    {
     "data": {
      "text/plain": [
       "False    28221\n",
       "True     18194\n",
       "Name: ultimate_black_user, dtype: int64"
      ]
     },
     "execution_count": 54,
     "metadata": {},
     "output_type": "execute_result"
    }
   ],
   "source": [
    "ultimate.ultimate_black_user.value_counts()"
   ]
  },
  {
   "cell_type": "code",
   "execution_count": 55,
   "id": "2608cb11",
   "metadata": {},
   "outputs": [
    {
     "data": {
      "image/png": "[encoded data removed]",
      "text/plain": [
       "<Figure size 432x288 with 1 Axes>"
      ]
     },
     "metadata": {
      "needs_background": "light"
     },
     "output_type": "display_data"
    }
   ],
   "source": [
    "fig, ax = plt.subplots()\n",
    "ax.boxplot(ultimate.weekday_pct)\n",
    "plt.show()"
   ]
  },
  {
   "cell_type": "code",
   "execution_count": 56,
   "id": "3feb62b5",
   "metadata": {},
   "outputs": [
    {
     "data": {
      "text/plain": [
       "<AxesSubplot:>"
      ]
     },
     "execution_count": 56,
     "metadata": {},
     "output_type": "execute_result"
    },
    {
     "data": {
      "image/png": "[encoded data removed]",
      "text/plain": [
       "<Figure size 432x288 with 1 Axes>"
      ]
     },
     "metadata": {
      "needs_background": "light"
     },
     "output_type": "display_data"
    }
   ],
   "source": [
    "ultimate.weekday_pct.hist()"
   ]
  },
  {
   "cell_type": "code",
   "execution_count": 57,
   "id": "bdeb84dd",
   "metadata": {},
   "outputs": [
    {
     "data": {
      "text/plain": [
       "<AxesSubplot:>"
      ]
     },
     "execution_count": 57,
     "metadata": {},
     "output_type": "execute_result"
    },
    {
     "data": {
      "image/png": "[encoded data removed]",
      "text/plain": [
       "<Figure size 432x288 with 1 Axes>"
      ]
     },
     "metadata": {
      "needs_background": "light"
     },
     "output_type": "display_data"
    }
   ],
   "source": [
    "ultimate.avg_dist.hist()"
   ]
  },
  {
   "cell_type": "code",
   "execution_count": 58,
   "id": "9c837075",
   "metadata": {},
   "outputs": [
    {
     "data": {
      "image/png": "[encoded data removed]",
      "text/plain": [
       "<Figure size 432x288 with 1 Axes>"
      ]
     },
     "metadata": {
      "needs_background": "light"
     },
     "output_type": "display_data"
    }
   ],
   "source": [
    "fig, ax = plt.subplots()\n",
    "ax.boxplot(ultimate.avg_dist)\n",
    "plt.show()"
   ]
  },
  {
   "cell_type": "code",
   "execution_count": 59,
   "id": "e52b4371",
   "metadata": {},
   "outputs": [
    {
     "data": {
      "text/plain": [
       "388"
      ]
     },
     "execution_count": 59,
     "metadata": {},
     "output_type": "execute_result"
    }
   ],
   "source": [
    "len(ultimate[ultimate['avg_dist'] > 30])"
   ]
  },
  {
   "cell_type": "code",
   "execution_count": 60,
   "id": "3413652c",
   "metadata": {},
   "outputs": [],
   "source": [
    "#Reducing outliers\n",
    "ultimate = ultimate[ultimate['avg_dist'] < 30]"
   ]
  },
  {
   "cell_type": "code",
   "execution_count": 61,
   "id": "5f928cbe",
   "metadata": {},
   "outputs": [
    {
     "data": {
      "text/plain": [
       "<AxesSubplot:>"
      ]
     },
     "execution_count": 61,
     "metadata": {},
     "output_type": "execute_result"
    },
    {
     "data": {
      "image/png": "[encoded data removed]",
      "text/plain": [
       "<Figure size 432x288 with 1 Axes>"
      ]
     },
     "metadata": {
      "needs_background": "light"
     },
     "output_type": "display_data"
    }
   ],
   "source": [
    "ultimate.avg_rating_by_driver.hist()"
   ]
  },
  {
   "cell_type": "markdown",
   "id": "09d05ce4",
   "metadata": {},
   "source": [
    "## How much data was retained?"
   ]
  },
  {
   "cell_type": "code",
   "execution_count": 62,
   "id": "4481d6c0",
   "metadata": {},
   "outputs": [
    {
     "name": "stdout",
     "output_type": "stream",
     "text": [
      "After cleaning 0.92 % of the data was retained\n"
     ]
    }
   ],
   "source": [
    "#The nature of the rating system prevents extreme outliers\n",
    "print(\"After cleaning \" + str(round(len(ultimate)/50000, 2)) + \" % of the data was retained\")"
   ]
  },
  {
   "cell_type": "code",
   "execution_count": 63,
   "id": "7996ab1f",
   "metadata": {},
   "outputs": [
    {
     "data": {
      "text/html": [
       "<div>\n",
       "<style scoped>\n",
       "    .dataframe tbody tr th:only-of-type {\n",
       "        vertical-align: middle;\n",
       "    }\n",
       "\n",
       "    .dataframe tbody tr th {\n",
       "        vertical-align: top;\n",
       "    }\n",
       "\n",
       "    .dataframe thead th {\n",
       "        text-align: right;\n",
       "    }\n",
       "</style>\n",
       "<table border=\"1\" class=\"dataframe\">\n",
       "  <thead>\n",
       "    <tr style=\"text-align: right;\">\n",
       "      <th></th>\n",
       "      <th>Unnamed: 0</th>\n",
       "      <th>city</th>\n",
       "      <th>trips_in_first_30_days</th>\n",
       "      <th>signup_date</th>\n",
       "      <th>avg_rating_of_driver</th>\n",
       "      <th>avg_surge</th>\n",
       "      <th>last_trip_date</th>\n",
       "      <th>phone</th>\n",
       "      <th>surge_pct</th>\n",
       "      <th>ultimate_black_user</th>\n",
       "      <th>weekday_pct</th>\n",
       "      <th>avg_dist</th>\n",
       "      <th>avg_rating_by_driver</th>\n",
       "      <th>dt_signup_date</th>\n",
       "      <th>dt_last_trip_date</th>\n",
       "      <th>target</th>\n",
       "    </tr>\n",
       "  </thead>\n",
       "  <tbody>\n",
       "    <tr>\n",
       "      <th>0</th>\n",
       "      <td>0</td>\n",
       "      <td>King's Landing</td>\n",
       "      <td>4</td>\n",
       "      <td>2014-01-25</td>\n",
       "      <td>4.7</td>\n",
       "      <td>1.10</td>\n",
       "      <td>2014-06-17</td>\n",
       "      <td>iPhone</td>\n",
       "      <td>15.4</td>\n",
       "      <td>True</td>\n",
       "      <td>46.2</td>\n",
       "      <td>3.67</td>\n",
       "      <td>5.0</td>\n",
       "      <td>2014-01-25</td>\n",
       "      <td>2014-01-25</td>\n",
       "      <td>1</td>\n",
       "    </tr>\n",
       "    <tr>\n",
       "      <th>1</th>\n",
       "      <td>1</td>\n",
       "      <td>Astapor</td>\n",
       "      <td>0</td>\n",
       "      <td>2014-01-29</td>\n",
       "      <td>5.0</td>\n",
       "      <td>1.00</td>\n",
       "      <td>2014-05-05</td>\n",
       "      <td>Android</td>\n",
       "      <td>0.0</td>\n",
       "      <td>False</td>\n",
       "      <td>50.0</td>\n",
       "      <td>8.26</td>\n",
       "      <td>5.0</td>\n",
       "      <td>2014-01-29</td>\n",
       "      <td>2014-01-29</td>\n",
       "      <td>0</td>\n",
       "    </tr>\n",
       "    <tr>\n",
       "      <th>2</th>\n",
       "      <td>2</td>\n",
       "      <td>Astapor</td>\n",
       "      <td>3</td>\n",
       "      <td>2014-01-06</td>\n",
       "      <td>4.3</td>\n",
       "      <td>1.00</td>\n",
       "      <td>2014-01-07</td>\n",
       "      <td>iPhone</td>\n",
       "      <td>0.0</td>\n",
       "      <td>False</td>\n",
       "      <td>100.0</td>\n",
       "      <td>0.77</td>\n",
       "      <td>5.0</td>\n",
       "      <td>2014-01-06</td>\n",
       "      <td>2014-01-06</td>\n",
       "      <td>0</td>\n",
       "    </tr>\n",
       "    <tr>\n",
       "      <th>3</th>\n",
       "      <td>3</td>\n",
       "      <td>King's Landing</td>\n",
       "      <td>9</td>\n",
       "      <td>2014-01-10</td>\n",
       "      <td>4.6</td>\n",
       "      <td>1.14</td>\n",
       "      <td>2014-06-29</td>\n",
       "      <td>iPhone</td>\n",
       "      <td>20.0</td>\n",
       "      <td>True</td>\n",
       "      <td>80.0</td>\n",
       "      <td>2.36</td>\n",
       "      <td>4.9</td>\n",
       "      <td>2014-01-10</td>\n",
       "      <td>2014-01-10</td>\n",
       "      <td>1</td>\n",
       "    </tr>\n",
       "    <tr>\n",
       "      <th>4</th>\n",
       "      <td>4</td>\n",
       "      <td>Winterfell</td>\n",
       "      <td>14</td>\n",
       "      <td>2014-01-27</td>\n",
       "      <td>4.4</td>\n",
       "      <td>1.19</td>\n",
       "      <td>2014-03-15</td>\n",
       "      <td>Android</td>\n",
       "      <td>11.8</td>\n",
       "      <td>False</td>\n",
       "      <td>82.4</td>\n",
       "      <td>3.13</td>\n",
       "      <td>4.9</td>\n",
       "      <td>2014-01-27</td>\n",
       "      <td>2014-01-27</td>\n",
       "      <td>0</td>\n",
       "    </tr>\n",
       "  </tbody>\n",
       "</table>\n",
       "</div>"
      ],
      "text/plain": [
       "   Unnamed: 0            city  trips_in_first_30_days signup_date  \\\n",
       "0           0  King's Landing                       4  2014-01-25   \n",
       "1           1         Astapor                       0  2014-01-29   \n",
       "2           2         Astapor                       3  2014-01-06   \n",
       "3           3  King's Landing                       9  2014-01-10   \n",
       "4           4      Winterfell                      14  2014-01-27   \n",
       "\n",
       "   avg_rating_of_driver  avg_surge last_trip_date    phone  surge_pct  \\\n",
       "0                   4.7       1.10     2014-06-17   iPhone       15.4   \n",
       "1                   5.0       1.00     2014-05-05  Android        0.0   \n",
       "2                   4.3       1.00     2014-01-07   iPhone        0.0   \n",
       "3                   4.6       1.14     2014-06-29   iPhone       20.0   \n",
       "4                   4.4       1.19     2014-03-15  Android       11.8   \n",
       "\n",
       "   ultimate_black_user  weekday_pct  avg_dist  avg_rating_by_driver  \\\n",
       "0                 True         46.2      3.67                   5.0   \n",
       "1                False         50.0      8.26                   5.0   \n",
       "2                False        100.0      0.77                   5.0   \n",
       "3                 True         80.0      2.36                   4.9   \n",
       "4                False         82.4      3.13                   4.9   \n",
       "\n",
       "  dt_signup_date dt_last_trip_date  target  \n",
       "0     2014-01-25        2014-01-25       1  \n",
       "1     2014-01-29        2014-01-29       0  \n",
       "2     2014-01-06        2014-01-06       0  \n",
       "3     2014-01-10        2014-01-10       1  \n",
       "4     2014-01-27        2014-01-27       0  "
      ]
     },
     "execution_count": 63,
     "metadata": {},
     "output_type": "execute_result"
    }
   ],
   "source": [
    "#Creating a target variable\n",
    "conditions = [\n",
    "    (ultimate['last_trip_date'] >= \"2014-06-01\"),\n",
    "    (ultimate['last_trip_date'] < \"2014-06-01\"),\n",
    "    ]\n",
    "values = [1, 0]\n",
    "ultimate['target'] = np.select(conditions, values)\n",
    "ultimate.head()"
   ]
  },
  {
   "cell_type": "code",
   "execution_count": 64,
   "id": "2ec6124d",
   "metadata": {},
   "outputs": [
    {
     "data": {
      "text/plain": [
       "46027"
      ]
     },
     "execution_count": 64,
     "metadata": {},
     "output_type": "execute_result"
    }
   ],
   "source": [
    "len(ultimate)"
   ]
  },
  {
   "cell_type": "markdown",
   "id": "e31140b3",
   "metadata": {},
   "source": [
    "Modeling:\n",
    "I will start with logistic regression as a baseline for model performance.\n",
    "I will model using logistic regression, random forrest, and K-nearest-neighbor.\n",
    "I will be looking at a combination of f-1 score and precision of 1 as well as recall of 0. I do not want to waste resources on users who would not be active, nor do I want to miss potentially active users. "
   ]
  },
  {
   "cell_type": "code",
   "execution_count": 65,
   "id": "33731aea",
   "metadata": {},
   "outputs": [],
   "source": [
    "from sklearn.preprocessing import StandardScaler\n",
    "from sklearn.model_selection import train_test_split"
   ]
  },
  {
   "cell_type": "code",
   "execution_count": 66,
   "id": "806decfc",
   "metadata": {},
   "outputs": [],
   "source": [
    "#Dropping dates and interval columns because they invalidate the model. These features will not be available for future users\n",
    "#that the model would be used to predict.\n",
    "ult = ultimate.drop(columns = ['signup_date', 'last_trip_date', 'dt_signup_date', 'dt_last_trip_date'])"
   ]
  },
  {
   "cell_type": "code",
   "execution_count": 67,
   "id": "971e42b7",
   "metadata": {},
   "outputs": [
    {
     "name": "stdout",
     "output_type": "stream",
     "text": [
      "<class 'pandas.core.frame.DataFrame'>\n",
      "Int64Index: 46027 entries, 0 to 49999\n",
      "Data columns (total 12 columns):\n",
      " #   Column                  Non-Null Count  Dtype  \n",
      "---  ------                  --------------  -----  \n",
      " 0   Unnamed: 0              46027 non-null  int64  \n",
      " 1   city                    46027 non-null  object \n",
      " 2   trips_in_first_30_days  46027 non-null  int64  \n",
      " 3   avg_rating_of_driver    46027 non-null  float64\n",
      " 4   avg_surge               46027 non-null  float64\n",
      " 5   phone                   46027 non-null  object \n",
      " 6   surge_pct               46027 non-null  float64\n",
      " 7   ultimate_black_user     46027 non-null  bool   \n",
      " 8   weekday_pct             46027 non-null  float64\n",
      " 9   avg_dist                46027 non-null  float64\n",
      " 10  avg_rating_by_driver    45860 non-null  float64\n",
      " 11  target                  46027 non-null  int32  \n",
      "dtypes: bool(1), float64(6), int32(1), int64(2), object(2)\n",
      "memory usage: 4.1+ MB\n"
     ]
    }
   ],
   "source": [
    "ult.info()"
   ]
  },
  {
   "cell_type": "code",
   "execution_count": 68,
   "id": "4a1730f2",
   "metadata": {},
   "outputs": [],
   "source": [
    "#I cleaned avg rating OF driver, but forgot avg rating BY driver. Taking care of now\n",
    "bydrivermedian = ult['avg_rating_by_driver'].median()\n",
    "ult['avg_rating_by_driver'] = ult['avg_rating_by_driver'].fillna(bydrivermedian)"
   ]
  },
  {
   "cell_type": "code",
   "execution_count": 69,
   "id": "54e307c3",
   "metadata": {},
   "outputs": [],
   "source": [
    "#Seperating numerical features from categorical\n",
    "ultn = ult[['trips_in_first_30_days', 'avg_rating_of_driver', 'avg_surge', 'surge_pct', 'weekday_pct', 'avg_dist', 'avg_rating_by_driver']]\n",
    "ultc = ult[['city', 'phone', 'ultimate_black_user']]\n",
    "target = ult['target']"
   ]
  },
  {
   "cell_type": "code",
   "execution_count": 70,
   "id": "9c9e8177",
   "metadata": {},
   "outputs": [
    {
     "name": "stdout",
     "output_type": "stream",
     "text": [
      "46027\n",
      "46027\n",
      "46027\n",
      "46027\n"
     ]
    }
   ],
   "source": [
    "print(len(ult))\n",
    "print(len(ultn))\n",
    "print(len(ultc))\n",
    "print(len(target))"
   ]
  },
  {
   "cell_type": "code",
   "execution_count": 71,
   "id": "97f6752a",
   "metadata": {},
   "outputs": [],
   "source": [
    "#Scaling numerical features\n",
    "scaler = StandardScaler()\n",
    "ultscaled = pd.DataFrame(scaler.fit_transform(ultn), columns= ultn.columns)"
   ]
  },
  {
   "cell_type": "code",
   "execution_count": 72,
   "id": "0f099325",
   "metadata": {},
   "outputs": [],
   "source": [
    "#Creating dummy variables\n",
    "ultc = pd.get_dummies(ultc)"
   ]
  },
  {
   "cell_type": "code",
   "execution_count": 73,
   "id": "431450ff",
   "metadata": {},
   "outputs": [
    {
     "data": {
      "text/html": [
       "<div>\n",
       "<style scoped>\n",
       "    .dataframe tbody tr th:only-of-type {\n",
       "        vertical-align: middle;\n",
       "    }\n",
       "\n",
       "    .dataframe tbody tr th {\n",
       "        vertical-align: top;\n",
       "    }\n",
       "\n",
       "    .dataframe thead th {\n",
       "        text-align: right;\n",
       "    }\n",
       "</style>\n",
       "<table border=\"1\" class=\"dataframe\">\n",
       "  <thead>\n",
       "    <tr style=\"text-align: right;\">\n",
       "      <th></th>\n",
       "      <th>ultimate_black_user</th>\n",
       "      <th>city_Astapor</th>\n",
       "      <th>city_King's Landing</th>\n",
       "      <th>city_Winterfell</th>\n",
       "      <th>phone_Android</th>\n",
       "      <th>phone_iPhone</th>\n",
       "    </tr>\n",
       "  </thead>\n",
       "  <tbody>\n",
       "    <tr>\n",
       "      <th>0</th>\n",
       "      <td>True</td>\n",
       "      <td>0</td>\n",
       "      <td>1</td>\n",
       "      <td>0</td>\n",
       "      <td>0</td>\n",
       "      <td>1</td>\n",
       "    </tr>\n",
       "    <tr>\n",
       "      <th>1</th>\n",
       "      <td>False</td>\n",
       "      <td>1</td>\n",
       "      <td>0</td>\n",
       "      <td>0</td>\n",
       "      <td>1</td>\n",
       "      <td>0</td>\n",
       "    </tr>\n",
       "    <tr>\n",
       "      <th>2</th>\n",
       "      <td>False</td>\n",
       "      <td>1</td>\n",
       "      <td>0</td>\n",
       "      <td>0</td>\n",
       "      <td>0</td>\n",
       "      <td>1</td>\n",
       "    </tr>\n",
       "    <tr>\n",
       "      <th>3</th>\n",
       "      <td>True</td>\n",
       "      <td>0</td>\n",
       "      <td>1</td>\n",
       "      <td>0</td>\n",
       "      <td>0</td>\n",
       "      <td>1</td>\n",
       "    </tr>\n",
       "    <tr>\n",
       "      <th>4</th>\n",
       "      <td>False</td>\n",
       "      <td>0</td>\n",
       "      <td>0</td>\n",
       "      <td>1</td>\n",
       "      <td>1</td>\n",
       "      <td>0</td>\n",
       "    </tr>\n",
       "  </tbody>\n",
       "</table>\n",
       "</div>"
      ],
      "text/plain": [
       "   ultimate_black_user  city_Astapor  city_King's Landing  city_Winterfell  \\\n",
       "0                 True             0                    1                0   \n",
       "1                False             1                    0                0   \n",
       "2                False             1                    0                0   \n",
       "3                 True             0                    1                0   \n",
       "4                False             0                    0                1   \n",
       "\n",
       "   phone_Android  phone_iPhone  \n",
       "0              0             1  \n",
       "1              1             0  \n",
       "2              0             1  \n",
       "3              0             1  \n",
       "4              1             0  "
      ]
     },
     "execution_count": 73,
     "metadata": {},
     "output_type": "execute_result"
    }
   ],
   "source": [
    "ultc.head()"
   ]
  },
  {
   "cell_type": "code",
   "execution_count": 74,
   "id": "0a092e8f",
   "metadata": {},
   "outputs": [],
   "source": [
    "ultc['ultimate_black_user'] = ultc['ultimate_black_user'].astype(int)"
   ]
  },
  {
   "cell_type": "code",
   "execution_count": 75,
   "id": "a94b5452",
   "metadata": {},
   "outputs": [],
   "source": [
    "ultc.reset_index(drop=True, inplace=True)\n",
    "ultscaled.reset_index(drop=True, inplace=True)"
   ]
  },
  {
   "cell_type": "code",
   "execution_count": 76,
   "id": "9aac95d1",
   "metadata": {},
   "outputs": [],
   "source": [
    "df = pd.concat([ultscaled, ultc], axis = 1)"
   ]
  },
  {
   "cell_type": "code",
   "execution_count": 107,
   "id": "d5e5b71f",
   "metadata": {},
   "outputs": [
    {
     "data": {
      "image/png": "[encoded data removed]",
      "text/plain": [
       "<Figure size 1440x1440 with 2 Axes>"
      ]
     },
     "metadata": {
      "needs_background": "light"
     },
     "output_type": "display_data"
    }
   ],
   "source": [
    "heatmap = df\n",
    "heatmap['target'] = target\n",
    "plt.figure(figsize = (20, 20))\n",
    "sns.heatmap(heatmap.corr(), annot=True)\n",
    "plt.show()"
   ]
  },
  {
   "cell_type": "code",
   "execution_count": 78,
   "id": "d5ddb3de",
   "metadata": {},
   "outputs": [],
   "source": [
    "#Seperating into testing and training sets\n",
    "X = df\n",
    "y = target\n",
    "X_train, X_test, y_train, y_test = train_test_split(X, y, test_size = 0.2, random_state=42)"
   ]
  },
  {
   "cell_type": "code",
   "execution_count": 86,
   "id": "0ce020f1",
   "metadata": {},
   "outputs": [],
   "source": [
    "from sklearn.linear_model import LogisticRegression\n",
    "from sklearn.metrics import f1_score\n",
    "from sklearn.metrics import confusion_matrix\n",
    "import itertools"
   ]
  },
  {
   "cell_type": "code",
   "execution_count": 81,
   "id": "93184168",
   "metadata": {},
   "outputs": [],
   "source": [
    "#Creating baseline model\n",
    "lrmodel = LogisticRegression()\n",
    "lrmodel.fit(X_train, y_train)\n",
    "lr_y_pred = lrmodel.predict(X_test)\n",
    "lr_accuracy = lrmodel.score(X_test, y_test)\n",
    "lr_f1 = f1_score(y_test, lr_y_pred, average='weighted')"
   ]
  },
  {
   "cell_type": "code",
   "execution_count": 82,
   "id": "2851e759",
   "metadata": {},
   "outputs": [
    {
     "name": "stdout",
     "output_type": "stream",
     "text": [
      "Logist Regression: Accuracy=0.722\n",
      "Logist Regression: f1-score=0.713\n"
     ]
    }
   ],
   "source": [
    "print('Logist Regression: Accuracy=%.3f' % (lr_accuracy))\n",
    "print('Logist Regression: f1-score=%.3f' % (lr_f1))"
   ]
  },
  {
   "cell_type": "code",
   "execution_count": 83,
   "id": "255b3f1b",
   "metadata": {},
   "outputs": [],
   "source": [
    "class_names=[0, 1]"
   ]
  },
  {
   "cell_type": "code",
   "execution_count": 84,
   "id": "81ecd415",
   "metadata": {},
   "outputs": [],
   "source": [
    "def plot_confusion_matrix(cm, classes,\n",
    "                          title='Confusion matrix',\n",
    "                          cmap=plt.cm.Blues):\n",
    "        cm = cm.astype('float') / cm.sum(axis=1)[:, np.newaxis]\n",
    "        print(\"Normalized confusion matrix\")\n",
    "        plt.imshow(cm, interpolation='nearest', cmap=cmap)\n",
    "        plt.title(title)\n",
    "        plt.colorbar()\n",
    "        tick_marks = np.arange(len(classes))\n",
    "        plt.xticks(tick_marks, classes, rotation=45)\n",
    "        plt.yticks(tick_marks, classes)\n",
    "        thresh = cm.max() / 2.\n",
    "        for i, j in itertools.product(range(cm.shape[0]), range(cm.shape[1])):\n",
    "            plt.text(j, i, format(cm[i, j], '.2f'),\n",
    "                     horizontalalignment=\"center\",\n",
    "                     color=\"white\" if cm[i, j] > thresh else \"black\")\n",
    "\n",
    "        plt.ylabel('True label')\n",
    "        plt.xlabel('Predicted label')\n",
    "        plt.tight_layout()"
   ]
  },
  {
   "cell_type": "code",
   "execution_count": 87,
   "id": "0b5ae233",
   "metadata": {},
   "outputs": [
    {
     "name": "stdout",
     "output_type": "stream",
     "text": [
      "Normalized confusion matrix\n"
     ]
    },
    {
     "data": {
      "image/png": "[encoded data removed]",
      "text/plain": [
       "<Figure size 432x288 with 2 Axes>"
      ]
     },
     "metadata": {
      "needs_background": "light"
     },
     "output_type": "display_data"
    }
   ],
   "source": [
    "cnf_matrix = confusion_matrix(y_test, lr_y_pred)\n",
    "np.set_printoptions(precision=2)\n",
    "plt.figure()\n",
    "plot_confusion_matrix(cnf_matrix, classes=class_names,\n",
    "                      title='Normalized confusion matrix Logistic Regression')"
   ]
  },
  {
   "cell_type": "markdown",
   "id": "f7d840f0",
   "metadata": {},
   "source": [
    "The baseline model is very good at predicting who will not be active, but overpredicts inactive users causing it to miss nearly half of all active users. In this case I believe it would be better to overpredict active users rather than miss too many of them."
   ]
  },
  {
   "cell_type": "code",
   "execution_count": 91,
   "id": "49357904",
   "metadata": {},
   "outputs": [],
   "source": [
    "from sklearn.model_selection import RandomizedSearchCV\n",
    "from sklearn.metrics import accuracy_score,log_loss\n",
    "from sklearn.ensemble import RandomForestClassifier"
   ]
  },
  {
   "cell_type": "markdown",
   "id": "f18808b4",
   "metadata": {},
   "source": [
    "Random Forest"
   ]
  },
  {
   "cell_type": "code",
   "execution_count": 92,
   "id": "8e78017d",
   "metadata": {},
   "outputs": [
    {
     "name": "stdout",
     "output_type": "stream",
     "text": [
      "Fitting 3 folds for each of 100 candidates, totalling 300 fits\n"
     ]
    },
    {
     "data": {
      "text/plain": [
       "RandomizedSearchCV(cv=3, estimator=RandomForestClassifier(), n_iter=100,\n",
       "                   n_jobs=-1,\n",
       "                   param_distributions={'bootstrap': [True, False],\n",
       "                                        'max_depth': [10, 20, 30, 40, 50, 60,\n",
       "                                                      70, 80, 90, 100, 110,\n",
       "                                                      None],\n",
       "                                        'max_features': ['auto', 'sqrt'],\n",
       "                                        'min_samples_leaf': [1, 2, 4],\n",
       "                                        'min_samples_split': [2, 5, 10],\n",
       "                                        'n_estimators': [200, 400, 600, 800,\n",
       "                                                         1000, 1200, 1400, 1600,\n",
       "                                                         1800, 2000]},\n",
       "                   random_state=42, verbose=2)"
      ]
     },
     "execution_count": 92,
     "metadata": {},
     "output_type": "execute_result"
    }
   ],
   "source": [
    "#tuning\n",
    "\"\"\"n_estimators = [int(x) for x in np.linspace(start = 200, stop = 2000, num = 10)]\n",
    "max_features = ['auto', 'sqrt']\n",
    "max_depth = [int(x) for x in np.linspace(10, 110, num = 11)]\n",
    "max_depth.append(None)\n",
    "min_samples_split = [2, 5, 10]\n",
    "min_samples_leaf = [1, 2, 4]\n",
    "bootstrap = [True, False]\n",
    "random_grid = {'n_estimators': n_estimators,\n",
    "               'max_features': max_features,\n",
    "               'max_depth': max_depth,\n",
    "               'min_samples_split': min_samples_split,\n",
    "               'min_samples_leaf': min_samples_leaf,\n",
    "               'bootstrap': bootstrap}\n",
    "rf = RandomForestClassifier()\n",
    "rf_random = RandomizedSearchCV(estimator = rf, param_distributions = random_grid, n_iter = 100, cv = 3, verbose=2, random_state=42, n_jobs = -1)\n",
    "rf_random.fit(X_train, y_train)\"\"\""
   ]
  },
  {
   "cell_type": "code",
   "execution_count": 93,
   "id": "4ee9b132",
   "metadata": {},
   "outputs": [
    {
     "data": {
      "text/plain": [
       "{'n_estimators': 1600,\n",
       " 'min_samples_split': 2,\n",
       " 'min_samples_leaf': 4,\n",
       " 'max_features': 'sqrt',\n",
       " 'max_depth': 10,\n",
       " 'bootstrap': True}"
      ]
     },
     "execution_count": 93,
     "metadata": {},
     "output_type": "execute_result"
    }
   ],
   "source": [
    "\"\"\"rf_random.best_params_\"\"\""
   ]
  },
  {
   "cell_type": "markdown",
   "id": "6dec5cb6",
   "metadata": {},
   "source": [
    "{'n_estimators': 1600,\n",
    " 'min_samples_split': 2,\n",
    " 'min_samples_leaf': 4,\n",
    " 'max_features': 'sqrt',\n",
    " 'max_depth': 10,\n",
    " 'bootstrap': True}"
   ]
  },
  {
   "cell_type": "code",
   "execution_count": 95,
   "id": "2f0566cb",
   "metadata": {},
   "outputs": [
    {
     "name": "stdout",
     "output_type": "stream",
     "text": [
      "Random Forest: Accuracy=0.783\n",
      "Random Forest: f1-score=0.781\n"
     ]
    }
   ],
   "source": [
    "clf = RandomForestClassifier(n_estimators=1600, min_samples_split = 2, min_samples_leaf = 4, max_features = 'sqrt', \\\n",
    "                            max_depth = 10, bootstrap = True)\n",
    "model_res = clf.fit(X_train, y_train)\n",
    "rfy_pred = model_res.predict(X_test)\n",
    "rfy_pred_prob = model_res.predict_proba(X_test)\n",
    "rf_probs = rfy_pred_prob[:,1]\n",
    "rfac = accuracy_score(y_test, rfy_pred)\n",
    "\n",
    "rff1 = f1_score(y_test, rfy_pred, average='weighted')\n",
    "rfcm = confusion_matrix(y_test, rfy_pred)\n",
    "\n",
    "print('Random Forest: Accuracy=%.3f' % (rfac))\n",
    "\n",
    "print('Random Forest: f1-score=%.3f' % (rff1))"
   ]
  },
  {
   "cell_type": "code",
   "execution_count": 97,
   "id": "9c1b5af7",
   "metadata": {},
   "outputs": [
    {
     "name": "stdout",
     "output_type": "stream",
     "text": [
      "Normalized confusion matrix\n"
     ]
    },
    {
     "data": {
      "image/png": "[encoded data removed]",
      "text/plain": [
       "<Figure size 432x288 with 2 Axes>"
      ]
     },
     "metadata": {
      "needs_background": "light"
     },
     "output_type": "display_data"
    }
   ],
   "source": [
    "cnf_matrix = confusion_matrix(y_test, rfy_pred)\n",
    "np.set_printoptions(precision=2)\n",
    "plt.figure()\n",
    "plot_confusion_matrix(cnf_matrix, classes=class_names,\n",
    "                      title='Normalized confusion matrix Random Forest')"
   ]
  },
  {
   "cell_type": "markdown",
   "id": "cdc8c8e8",
   "metadata": {},
   "source": [
    "Better f1, but still missing more active users than I'd like. "
   ]
  },
  {
   "cell_type": "code",
   "execution_count": 105,
   "id": "02672dbf",
   "metadata": {},
   "outputs": [
    {
     "name": "stdout",
     "output_type": "stream",
     "text": [
      "                        importance\n",
      "avg_rating_by_driver      0.162527\n",
      "surge_pct                 0.152127\n",
      "weekday_pct               0.120502\n",
      "avg_surge                 0.114159\n",
      "city_King's Landing       0.112915\n",
      "trips_in_first_30_days    0.062510\n",
      "avg_dist                  0.052456\n",
      "ultimate_black_user       0.051164\n",
      "phone_iPhone              0.044689\n",
      "phone_Android             0.044225\n"
     ]
    }
   ],
   "source": [
    "feature_importances = pd.DataFrame(clf.feature_importances_, index = X.columns, columns = ['importance']).sort_values('importance', ascending = False)\n",
    "print(feature_importances.head(10))"
   ]
  },
  {
   "cell_type": "markdown",
   "id": "a44fc661",
   "metadata": {},
   "source": [
    "KNN"
   ]
  },
  {
   "cell_type": "code",
   "execution_count": 99,
   "id": "d7772186",
   "metadata": {},
   "outputs": [],
   "source": [
    "from sklearn.neighbors import KNeighborsClassifier"
   ]
  },
  {
   "cell_type": "code",
   "execution_count": 100,
   "id": "902bfe1e",
   "metadata": {},
   "outputs": [],
   "source": [
    "#Tuning\n",
    "test_scores = []\n",
    "train_scores = []\n",
    "\n",
    "for i in range(1,20):\n",
    "\n",
    "    knn = KNeighborsClassifier(i)\n",
    "    knn.fit(X_train,y_train)\n",
    "    \n",
    "    train_scores.append(knn.score(X_train,y_train))\n",
    "    test_scores.append(knn.score(X_test,y_test))"
   ]
  },
  {
   "cell_type": "code",
   "execution_count": 101,
   "id": "cd41442a",
   "metadata": {},
   "outputs": [
    {
     "data": {
      "text/plain": [
       "16"
      ]
     },
     "execution_count": 101,
     "metadata": {},
     "output_type": "execute_result"
    }
   ],
   "source": [
    "test_scores.index(max(test_scores))\n",
    "#Here an index of 16 indicates 17 neighbors"
   ]
  },
  {
   "cell_type": "code",
   "execution_count": 102,
   "id": "9664663e",
   "metadata": {},
   "outputs": [
    {
     "name": "stdout",
     "output_type": "stream",
     "text": [
      "KNN: Accuracy=0.761\n",
      "KNN: f1-score=0.759\n"
     ]
    }
   ],
   "source": [
    "knn = KNeighborsClassifier(17)\n",
    "knn.fit(X_train,y_train)\n",
    "knny_pred = knn.predict(X_test)\n",
    "knny_pred_prob = knn.predict_proba(X_test)\n",
    "knn_probs = knny_pred_prob[:,1]\n",
    "knnac = accuracy_score(y_test, knny_pred)\n",
    "\n",
    "knnf1 = f1_score(y_test, knny_pred, average='weighted')\n",
    "knncm = confusion_matrix(y_test, knny_pred)\n",
    "\n",
    "print('KNN: Accuracy=%.3f' % (knnac))\n",
    "\n",
    "print('KNN: f1-score=%.3f' % (knnf1))"
   ]
  },
  {
   "cell_type": "code",
   "execution_count": 104,
   "id": "f9f33de5",
   "metadata": {},
   "outputs": [
    {
     "name": "stdout",
     "output_type": "stream",
     "text": [
      "Normalized confusion matrix\n"
     ]
    },
    {
     "data": {
      "image/png": "[encoded data removed]",
      "text/plain": [
       "<Figure size 432x288 with 2 Axes>"
      ]
     },
     "metadata": {
      "needs_background": "light"
     },
     "output_type": "display_data"
    }
   ],
   "source": [
    "cnf_matrix = confusion_matrix(y_test, knny_pred)\n",
    "np.set_printoptions(precision=2)\n",
    "plt.figure()\n",
    "plot_confusion_matrix(cnf_matrix, classes=class_names,\n",
    "                      title='Normalized confusion matrix KNN')"
   ]
  },
  {
   "cell_type": "markdown",
   "id": "b2c4554a",
   "metadata": {},
   "source": [
    "## Results\n",
    "It seems that Random Forest is going to be the best model. Not only does it have the highest f-1 score, but it also misses the fewest amount of true active users. From the heatmap I can see that the target does not have any strong correlation to any of the features in particular. However, the random forest classifier conciders average rating by driver and surge pricing to be the most important factors that it concidered when making predictions. This seems to suggest what might seem obvious in retrospect: drivers are more likely to remain active when they are making better money and are happier with their customers. "
   ]
  },
  {
   "cell_type": "code",
   "execution_count": null,
   "id": "802b62cb",
   "metadata": {},
   "outputs": [],
   "source": []
  }
 ],
 "metadata": {
  "kernelspec": {
   "display_name": "Python 3 (ipykernel)",
   "language": "python",
   "name": "python3"
  },
  "language_info": {
   "codemirror_mode": {
    "name": "ipython",
    "version": 3
   },
   "file_extension": ".py",
   "mimetype": "text/x-python",
   "name": "python",
   "nbconvert_exporter": "python",
   "pygments_lexer": "ipython3",
   "version": "3.9.7"
  }
 },
 "nbformat": 4,
 "nbformat_minor": 5
}
